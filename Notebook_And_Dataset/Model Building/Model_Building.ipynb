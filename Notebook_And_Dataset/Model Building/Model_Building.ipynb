{
 "cells": [
  {
   "cell_type": "markdown",
   "id": "9c867682-4ac1-47a0-ae4b-1651259c67fe",
   "metadata": {},
   "source": [
    "# Importing the dependencies"
   ]
  },
  {
   "cell_type": "code",
   "execution_count": 1,
   "id": "0ee17601-4845-4fed-86f5-da5effc7382a",
   "metadata": {},
   "outputs": [],
   "source": [
    "import pandas as pd\n",
    "import numpy as np\n",
    "import seaborn as sns\n",
    "import matplotlib.pyplot as plt\n",
    "import statsmodels.api as sm\n",
    "import scipy.stats as stats\n",
    "from sklearn.compose import ColumnTransformer\n",
    "from sklearn.pipeline import Pipeline\n",
    "from math import exp\n",
    "from sklearn.model_selection import train_test_split\n",
    "import category_encoders as ce\n",
    "from scipy.stats import skew\n",
    "from sklearn.preprocessing import OrdinalEncoder,OneHotEncoder,MinMaxScaler,FunctionTransformer\n",
    "from sklearn.linear_model import LinearRegression\n",
    "from sklearn.impute import SimpleImputer\n",
    "from sklearn.model_selection import cross_val_score,KFold\n",
    "from sklearn.metrics import mean_squared_error, mean_absolute_error, r2_score\n",
    "from hyperopt import STATUS_OK, Trials, fmin, hp, tpe\n",
    "from scipy.stats import skew,yeojohnson\n",
    "from sklearn.linear_model import LinearRegression, Ridge, Lasso\n",
    "from sklearn.svm import SVR\n",
    "from sklearn.tree import DecisionTreeRegressor\n",
    "import pickle\n",
    "from sklearn.ensemble import RandomForestRegressor, ExtraTreesRegressor, GradientBoostingRegressor, AdaBoostRegressor\n",
    "from sklearn.neural_network import MLPRegressor\n",
    "from xgboost import XGBRegressor\n",
    "\n",
    "import warnings\n",
    "warnings.filterwarnings('ignore')"
   ]
  },
  {
   "cell_type": "code",
   "execution_count": 2,
   "id": "5d779943-c595-4e21-af3d-ab7c77e9195a",
   "metadata": {},
   "outputs": [],
   "source": [
    "def invert_yeojhonson(value, lmbda):\n",
    "    \"\"\"\n",
    "    This function will inverse the yeo-johnson transformation\n",
    "    \"\"\"\n",
    "    if value >= 0 and lmbda == 0:\n",
    "        return exp(value) - 1\n",
    "    elif value >= 0 and lmbda != 0:\n",
    "        return (value * lmbda + 1) ** (1 / lmbda) - 1\n",
    "    elif value < 0 and lmbda != 2:\n",
    "        if (2 - lmbda) * value + 1 >= 0:\n",
    "            return 1 - (-(2 - lmbda) * value + 1) ** (1 / (2 - lmbda))\n",
    "        else:\n",
    "            return float('nan')  # or handle it differently based on your requirements\n",
    "    elif value < 0 and lmbda == 2:\n",
    "        return 1 - exp(-value)"
   ]
  },
  {
   "cell_type": "code",
   "execution_count": 3,
   "id": "61f5c248-020f-4bc2-ba42-9ab8eef068d3",
   "metadata": {},
   "outputs": [
    {
     "data": {
      "text/html": [
       "<div>\n",
       "<style scoped>\n",
       "    .dataframe tbody tr th:only-of-type {\n",
       "        vertical-align: middle;\n",
       "    }\n",
       "\n",
       "    .dataframe tbody tr th {\n",
       "        vertical-align: top;\n",
       "    }\n",
       "\n",
       "    .dataframe thead th {\n",
       "        text-align: right;\n",
       "    }\n",
       "</style>\n",
       "<table border=\"1\" class=\"dataframe\">\n",
       "  <thead>\n",
       "    <tr style=\"text-align: right;\">\n",
       "      <th></th>\n",
       "      <th>Property_Type</th>\n",
       "      <th>sector</th>\n",
       "      <th>price</th>\n",
       "      <th>bedRoom</th>\n",
       "      <th>bathroom</th>\n",
       "      <th>balcony</th>\n",
       "      <th>agePossession</th>\n",
       "      <th>built_up_area</th>\n",
       "      <th>servant room</th>\n",
       "      <th>furnishing_type</th>\n",
       "      <th>luxury_category</th>\n",
       "      <th>floor_category</th>\n",
       "    </tr>\n",
       "  </thead>\n",
       "  <tbody>\n",
       "    <tr>\n",
       "      <th>0</th>\n",
       "      <td>flat</td>\n",
       "      <td>7.0</td>\n",
       "      <td>0.45</td>\n",
       "      <td>2.0</td>\n",
       "      <td>2.0</td>\n",
       "      <td>1</td>\n",
       "      <td>Relatively New</td>\n",
       "      <td>1000.0</td>\n",
       "      <td>0.0</td>\n",
       "      <td>2.0</td>\n",
       "      <td>Low</td>\n",
       "      <td>Mid Floor</td>\n",
       "    </tr>\n",
       "    <tr>\n",
       "      <th>1</th>\n",
       "      <td>flat</td>\n",
       "      <td>3.0</td>\n",
       "      <td>0.50</td>\n",
       "      <td>2.0</td>\n",
       "      <td>2.0</td>\n",
       "      <td>1</td>\n",
       "      <td>Old Property</td>\n",
       "      <td>722.0</td>\n",
       "      <td>0.0</td>\n",
       "      <td>2.0</td>\n",
       "      <td>Low</td>\n",
       "      <td>Low Floor</td>\n",
       "    </tr>\n",
       "    <tr>\n",
       "      <th>2</th>\n",
       "      <td>flat</td>\n",
       "      <td>1.0</td>\n",
       "      <td>0.40</td>\n",
       "      <td>2.0</td>\n",
       "      <td>2.0</td>\n",
       "      <td>3</td>\n",
       "      <td>New Property</td>\n",
       "      <td>661.0</td>\n",
       "      <td>0.0</td>\n",
       "      <td>1.0</td>\n",
       "      <td>Low</td>\n",
       "      <td>High Floor</td>\n",
       "    </tr>\n",
       "  </tbody>\n",
       "</table>\n",
       "</div>"
      ],
      "text/plain": [
       "  Property_Type sector  price  bedRoom  bathroom balcony   agePossession  \\\n",
       "0          flat    7.0   0.45      2.0       2.0       1  Relatively New   \n",
       "1          flat    3.0   0.50      2.0       2.0       1    Old Property   \n",
       "2          flat    1.0   0.40      2.0       2.0       3    New Property   \n",
       "\n",
       "   built_up_area  servant room  furnishing_type luxury_category floor_category  \n",
       "0         1000.0           0.0              2.0             Low      Mid Floor  \n",
       "1          722.0           0.0              2.0             Low      Low Floor  \n",
       "2          661.0           0.0              1.0             Low     High Floor  "
      ]
     },
     "execution_count": 3,
     "metadata": {},
     "output_type": "execute_result"
    }
   ],
   "source": [
    "# Loading the dataset\n",
    "df = pd.read_csv('../Cleaned_datasets/Combined_CleanData_V4.csv')\n",
    "df.drop(['store room'],axis=1,inplace=True)\n",
    "df['sector'] = df['sector'].astype(object)\n",
    "df.head(3)"
   ]
  },
  {
   "cell_type": "code",
   "execution_count": 4,
   "id": "5be8d05f-16ba-4767-baf8-5360f518bd2f",
   "metadata": {},
   "outputs": [],
   "source": [
    "balcony_map = {'3+ Balconies': '3+', '2 Balconies': '2', '3 Balconies': '3', 'No Balcony': '0', '1 Balcony': '1'}\n",
    "df['balcony'] = df['balcony'].replace(balcony_map)"
   ]
  },
  {
   "cell_type": "code",
   "execution_count": 5,
   "id": "777f7e6a-dbeb-42bb-aa39-b5b5039181a1",
   "metadata": {},
   "outputs": [],
   "source": [
    "new_order = ['balcony', 'agePossession','luxury_category', 'floor_category','Property_Type', 'sector','built_up_area','bedRoom', 'bathroom',\n",
    "             'servant room','furnishing_type','price']\n",
    "\n",
    "df = df.reindex(columns=new_order)"
   ]
  },
  {
   "cell_type": "code",
   "execution_count": 6,
   "id": "b754fdf3-a61f-47fd-83cf-0c3e681fb8a0",
   "metadata": {},
   "outputs": [],
   "source": [
    "# Seperating the data into dependent variable and indepenedent variables\n",
    "X = df.drop(['price'],axis=1)\n",
    "y = df['price']\n",
    "\n",
    "X_train,X_test_val,y_train,y_test_val = train_test_split(X,y,train_size = 0.8,shuffle=True)\n",
    "X_test,X_val,y_test,y_val = train_test_split(X_test_val,y_test_val,train_size=0.8,shuffle=True)"
   ]
  },
  {
   "cell_type": "code",
   "execution_count": 7,
   "id": "7ecce93b-f2ea-411a-bd00-089cbe76fdd5",
   "metadata": {},
   "outputs": [
    {
     "data": {
      "text/plain": [
       "((2904, 11), (580, 11), (146, 11))"
      ]
     },
     "execution_count": 7,
     "metadata": {},
     "output_type": "execute_result"
    }
   ],
   "source": [
    "X_train.shape,X_test.shape,X_val.shape"
   ]
  },
  {
   "cell_type": "markdown",
   "id": "27ee208b-f45e-4f51-a092-44b1ae541ca2",
   "metadata": {},
   "source": [
    "In the input data which we will be feeding into the model for training, there is only 1 feature which is continuous in nature and that is `built_up_area` and to get good results from the linear models, the distribution of continous features must be normal or sort of normal. Thus we will be using some mathematical transformation to transform the skewed distribution into the sort of normal distribution. \n",
    "\n",
    "In similar way we will also be using some mathematical transformation on target variable, but to decide which transformation to apply we must be aware about the shape of the variable's distribution, thus we will be using a `histogram` and a `qqplot`"
   ]
  },
  {
   "cell_type": "code",
   "execution_count": 8,
   "id": "ce263f33-f6c4-4ae8-a9da-534403019505",
   "metadata": {},
   "outputs": [
    {
     "data": {
      "image/png": "[encoded data removed]",
      "text/plain": [
       "<Figure size 1000x500 with 4 Axes>"
      ]
     },
     "metadata": {},
     "output_type": "display_data"
    }
   ],
   "source": [
    "fig, ax = plt.subplots(2, 2, figsize=[10, 5])\n",
    "\n",
    "sns.histplot(data=X_train, x='built_up_area', kde=True, ax=ax[0][0])\n",
    "sm.qqplot(X_train['built_up_area'].values, line='45', fit=True, dist=stats.norm,ax=ax[0][1])\n",
    "sns.histplot(x=y_train, kde=True, ax=ax[1][0])\n",
    "sm.qqplot(y_train.values, line='45', fit=True, dist=stats.norm,ax=ax[1][1])\n",
    "\n",
    "plt.subplots_adjust(hspace=0.4,wspace=0.4)\n",
    "plt.show()"
   ]
  },
  {
   "cell_type": "code",
   "execution_count": 9,
   "id": "9fc47351-6dbf-4afd-abe6-2242b17a0f03",
   "metadata": {},
   "outputs": [],
   "source": [
    "temp_df = df.copy()"
   ]
  },
  {
   "cell_type": "code",
   "execution_count": 10,
   "id": "8b1bce59-9550-4f4c-82ab-dd87090a7c19",
   "metadata": {},
   "outputs": [
    {
     "data": {
      "text/html": [
       "<div>\n",
       "<style scoped>\n",
       "    .dataframe tbody tr th:only-of-type {\n",
       "        vertical-align: middle;\n",
       "    }\n",
       "\n",
       "    .dataframe tbody tr th {\n",
       "        vertical-align: top;\n",
       "    }\n",
       "\n",
       "    .dataframe thead th {\n",
       "        text-align: right;\n",
       "    }\n",
       "</style>\n",
       "<table border=\"1\" class=\"dataframe\">\n",
       "  <thead>\n",
       "    <tr style=\"text-align: right;\">\n",
       "      <th></th>\n",
       "      <th>Normal</th>\n",
       "      <th>Log</th>\n",
       "      <th>Sqrt</th>\n",
       "      <th>Cube Root</th>\n",
       "      <th>Yeo-Johnson</th>\n",
       "    </tr>\n",
       "  </thead>\n",
       "  <tbody>\n",
       "    <tr>\n",
       "      <th>built_up_area</th>\n",
       "      <td>2.107325</td>\n",
       "      <td>-1.333799</td>\n",
       "      <td>0.587980</td>\n",
       "      <td>0.040648</td>\n",
       "      <td>0.117186</td>\n",
       "    </tr>\n",
       "    <tr>\n",
       "      <th>price</th>\n",
       "      <td>2.946583</td>\n",
       "      <td>1.551624</td>\n",
       "      <td>1.551624</td>\n",
       "      <td>1.109348</td>\n",
       "      <td>0.079611</td>\n",
       "    </tr>\n",
       "  </tbody>\n",
       "</table>\n",
       "</div>"
      ],
      "text/plain": [
       "                 Normal       Log      Sqrt  Cube Root  Yeo-Johnson\n",
       "built_up_area  2.107325 -1.333799  0.587980   0.040648     0.117186\n",
       "price          2.946583  1.551624  1.551624   1.109348     0.079611"
      ]
     },
     "execution_count": 10,
     "metadata": {},
     "output_type": "execute_result"
    }
   ],
   "source": [
    "# Calculate skewness before transformations\n",
    "before_transformation = {\n",
    "    'built_up_area': skew(temp_df['built_up_area']),\n",
    "    'price': skew(temp_df['price'])\n",
    "}\n",
    "\n",
    "# Apply square root and cube root transformations\n",
    "log_transformation = {\n",
    "    'built_up_area': skew(np.log(temp_df['built_up_area'])),\n",
    "    'price': skew(np.sqrt(temp_df['price']))\n",
    "}\n",
    "\n",
    "# Apply square root and cube root transformations\n",
    "sqrt_transformation = {\n",
    "    'built_up_area': skew(np.sqrt(temp_df['built_up_area'])),\n",
    "    'price': skew(np.sqrt(temp_df['price']))\n",
    "}\n",
    "\n",
    "cube_root_transformation = {\n",
    "    'built_up_area': skew(np.cbrt(temp_df['built_up_area'])),\n",
    "    'price': skew(np.cbrt(temp_df['price']))\n",
    "}\n",
    "\n",
    "# Yeo-Johnson transformation (We have to find our lambda value prior)\n",
    "yeojohn_transformation = {\n",
    "    'built_up_area': skew(yeojohnson(temp_df['built_up_area'], yeojohnson(temp_df['built_up_area'])[1])),\n",
    "    'price': skew(yeojohnson(temp_df['price'],yeojohnson(temp_df['price'])[1]))\n",
    "}\n",
    "\n",
    "# Create the DataFrame with all transformations\n",
    "skew_df = pd.DataFrame({\n",
    "    'Normal': before_transformation,\n",
    "    'Log': log_transformation,\n",
    "    'Sqrt': sqrt_transformation,\n",
    "    'Cube Root': cube_root_transformation,\n",
    "    'Yeo-Johnson': yeojohn_transformation,\n",
    "})\n",
    "skew_df"
   ]
  },
  {
   "cell_type": "code",
   "execution_count": 11,
   "id": "23daabaa-2bc1-486b-9497-1e92da145ebe",
   "metadata": {},
   "outputs": [],
   "source": [
    "cbrt_built_area = np.cbrt(temp_df['built_up_area'])\n",
    "yeo_price = yeojohnson(temp_df['price'], yeojohnson(temp_df['price'])[1])"
   ]
  },
  {
   "cell_type": "code",
   "execution_count": 12,
   "id": "a09c2779-3543-49dd-86c5-6e6d4bd0223a",
   "metadata": {},
   "outputs": [
    {
     "data": {
      "image/png": "[encoded data removed]",
      "text/plain": [
       "<Figure size 1000x500 with 4 Axes>"
      ]
     },
     "metadata": {},
     "output_type": "display_data"
    }
   ],
   "source": [
    "fig, ax = plt.subplots(2, 2, figsize=[10, 5])\n",
    "\n",
    "sns.histplot(x = cbrt_built_area, kde=True, ax=ax[0][0])\n",
    "sm.qqplot(cbrt_built_area, line='45', fit=True, dist=stats.norm,ax=ax[0][1])\n",
    "\n",
    "sns.histplot(x=yeo_price, kde=True, ax=ax[1][0])\n",
    "sm.qqplot(yeo_price, line='45', fit=True, dist=stats.norm,ax=ax[1][1])\n",
    "\n",
    "plt.subplots_adjust(hspace=0.4,wspace=0.4)\n",
    "plt.show()"
   ]
  },
  {
   "cell_type": "markdown",
   "id": "a146cfef-83b7-4274-aac4-b9246bb3dd4d",
   "metadata": {},
   "source": [
    "# Processsing Pipeline\n",
    "Before training our model it is very much important to first transform the data into the form which the model accepts (Numbers). In the feature selection file we build a base model and that model was performing average, so now in this file our aim will be to use the best set of techniques for encoding the categorical data, as well as performing any necessary mathematical transformations on the numerical features to get the best possible model with current data we are having at hand.\n",
    "\n",
    "In this module we will focusing on performing 3 different operations ⬇️\n",
    "- Encoding categorical data\n",
    "- Applying mathematical transformation to make skewed feature: sort of normal\n",
    "- Scale the feature values to common scale\n",
    "\n",
    "#### Step 1: Encoding categorical features\n",
    "- In our dataset property type and sector are 2 nominal features\n",
    "- Age possession, luxury cateogry and floor category are ordinal features\n",
    "\n",
    "`Note`: An important thing that we need to keep in mind is that the feature `sector` is having high cardinality so one hot encoding may lead to curse of dimensionality, so we need to test that for this feature whether one hot encoding or target encoding will work. "
   ]
  },
  {
   "cell_type": "markdown",
   "id": "a674289d-af1a-426b-91d9-733b3dbbf36c",
   "metadata": {},
   "source": [
    "- One hot encoding : Property_type\n",
    "- Target encoding : Sector\n",
    "- Ordinal encoding : balcony, age possesion,luxury category,floor category"
   ]
  },
  {
   "cell_type": "code",
   "execution_count": 13,
   "id": "6dbc1c74-7ee4-4c5a-9c64-59b96ace47d5",
   "metadata": {},
   "outputs": [],
   "source": [
    "# Defining the function for doing the cube root transformation\n",
    "def cube_root_transform(column):\n",
    "    return np.cbrt(column)"
   ]
  },
  {
   "cell_type": "code",
   "execution_count": 14,
   "id": "4d253579-0e8f-4074-a919-153d07e3680b",
   "metadata": {},
   "outputs": [],
   "source": [
    "# Column transformer for doing ordinal and nominal encoding\n",
    "encoding_transformer = ColumnTransformer(transformers=[\n",
    "    ('Encode_balcony', OrdinalEncoder(categories=[['0', '1', '2', '3', '3+']],\n",
    "                                     handle_unknown=\"use_encoded_value\", unknown_value=np.nan), [0]),\n",
    "\n",
    "    ('Encode_AgeP', OrdinalEncoder(categories=[['Under Construction', 'New Property', 'Relatively New',\n",
    "                                                'Moderately Old', 'Old Property']],\n",
    "                                   handle_unknown=\"use_encoded_value\", unknown_value=np.nan), [1]),\n",
    "\n",
    "    ('Encode_Lux', OrdinalEncoder(categories=[['Low', 'Medium', 'High']],\n",
    "                                  handle_unknown=\"use_encoded_value\", unknown_value=np.nan), [2]),\n",
    "\n",
    "    ('Encode_Floor', OrdinalEncoder(categories=[['Low Floor', 'Mid Floor', 'High Floor']],\n",
    "                                    handle_unknown=\"use_encoded_value\", unknown_value=np.nan), [3]),\n",
    "\n",
    "    ('Encode_PropT', OneHotEncoder(handle_unknown='ignore', drop='first'), [4]),\n",
    "    \n",
    "    ('Encode_sector', ce.TargetEncoder(cols=['sector']), [5]),\n",
    "], remainder='passthrough')\n",
    "\n",
    "\n",
    "# Column transformer for mathematical transformation CoapplicantIncome, loan amount\n",
    "math_transformer = ColumnTransformer(transformers=[\n",
    "    ('cubroot_built_up_area', FunctionTransformer(func=np.cbrt), [6]),\n",
    "], remainder='passthrough')\n",
    "\n",
    "# Column transformer for doing feature scaling\n",
    "scaling_transformer = ColumnTransformer(transformers = [\n",
    "    ('MinMaxScaling',MinMaxScaler(copy=False),[0,1,2,3,4,6,7,8,10])],remainder='passthrough')\n",
    "\n",
    "\n",
    "# Stacking column transformers to create a Processing pipeline\n",
    "Processing_pipeline = Pipeline(steps = [('Encoding',encoding_transformer),\n",
    "                                        ('Transformation',math_transformer),\n",
    "                             ('Scaling',scaling_transformer)],memory='Temp')"
   ]
  },
  {
   "cell_type": "code",
   "execution_count": 15,
   "id": "96dcfbf5-f5d3-4988-a3b3-59c9bfe3ef25",
   "metadata": {},
   "outputs": [],
   "source": [
    "# Transforming the input data\n",
    "X_train_temp = Processing_pipeline.fit_transform(X_train,y_train)"
   ]
  },
  {
   "cell_type": "code",
   "execution_count": 16,
   "id": "3509e667-9097-49bf-97ff-a8b1e5f2d30c",
   "metadata": {},
   "outputs": [],
   "source": [
    "# Transforming the training data\n",
    "lambda_value = yeojohnson(y_train)[1]\n",
    "y_train_transformed = yeojohnson(y_train, lambda_value)"
   ]
  },
  {
   "cell_type": "code",
   "execution_count": 17,
   "id": "2acb2216-d293-449d-b0a6-e9fb50409a6c",
   "metadata": {},
   "outputs": [],
   "source": [
    "# Save the data to a file using pickle\n",
    "with open('../Model Building/Pipeline.pkl', 'wb') as file:\n",
    "    pickle.dump(Processing_pipeline, file)"
   ]
  },
  {
   "cell_type": "code",
   "execution_count": 19,
   "id": "d8964d08-afb5-46d4-8884-129763c63ea4",
   "metadata": {},
   "outputs": [],
   "source": [
    "# scores.mean(),scores.std()"
   ]
  },
  {
   "cell_type": "code",
   "execution_count": 20,
   "id": "322ef54a-aeb1-44f7-88ab-5131c2e0921b",
   "metadata": {},
   "outputs": [],
   "source": [
    "def scorer(model_name, model):\n",
    "    \"\"\"\n",
    "    This function will take a model name as input and inject that model into the training pipeline to process \n",
    "    and train the model by using the training data. After that this function will use K fold cross validation technique\n",
    "    to calculate the average (r2 score) and the mean absolute error\n",
    "    \"\"\"\n",
    "    \n",
    "    output = []\n",
    "    output.append(model_name)\n",
    "    \n",
    "    # Stacking column transformers to create a Training pipeline\n",
    "    Training_pipeline = Pipeline(steps = [('Encoding',encoding_transformer),\n",
    "                             ('Scaling',scaling_transformer),\n",
    "                             ('Transformation',math_transformer),\n",
    "                             ('regressor', model)])\n",
    "    \n",
    "    # K-fold cross-validation\n",
    "    kfold = KFold(n_splits=10, shuffle=True, random_state=42)\n",
    "    scores = cross_val_score(Training_pipeline, X_train, y_train_transformed, cv=kfold, scoring='r2')\n",
    "    output.append(scores.mean())\n",
    "    \n",
    "    # Training the model and getting predictions\n",
    "    Training_pipeline.fit(X_train,y_train_transformed)\n",
    "    y_pred_tranformed = Training_pipeline.predict(X_test)\n",
    "    y_pred_inverse = [invert_yeojhonson(x, lambda_value) for x in y_pred_tranformed]\n",
    "    # # y_pred = np.expm1(y_pred)\n",
    "    output.append(mean_absolute_error(y_test,y_pred_inverse))\n",
    "    \n",
    "    return output"
   ]
  },
  {
   "cell_type": "code",
   "execution_count": 21,
   "id": "b78a4a18-239b-44b1-97e3-68133448ce0a",
   "metadata": {},
   "outputs": [],
   "source": [
    "model_dict = {\n",
    "    'linear_reg':LinearRegression(),\n",
    "    'svr':SVR(),\n",
    "    'ridge':Ridge(),\n",
    "    'LASSO':Lasso(),\n",
    "    'decision tree': DecisionTreeRegressor(),\n",
    "    'random forest':RandomForestRegressor(),\n",
    "    'extra trees': ExtraTreesRegressor(),\n",
    "    'gradient boosting': GradientBoostingRegressor(),\n",
    "    'adaboost': AdaBoostRegressor(),\n",
    "    'xgboost':XGBRegressor()\n",
    "}"
   ]
  },
  {
   "cell_type": "code",
   "execution_count": null,
   "id": "fd729fa7-3b68-469c-ad9d-394ad47eedbe",
   "metadata": {},
   "outputs": [],
   "source": [
    "%%time\n",
    "model_output = []\n",
    "for model_name,model in model_dict.items():\n",
    "    model_output.append(scorer(model_name, model))"
   ]
  },
  {
   "cell_type": "code",
   "execution_count": 16,
   "id": "7ce45d69-ac59-48bc-9e47-1afd33462dbe",
   "metadata": {},
   "outputs": [
    {
     "data": {
      "text/html": [
       "<div>\n",
       "<style scoped>\n",
       "    .dataframe tbody tr th:only-of-type {\n",
       "        vertical-align: middle;\n",
       "    }\n",
       "\n",
       "    .dataframe tbody tr th {\n",
       "        vertical-align: top;\n",
       "    }\n",
       "\n",
       "    .dataframe thead th {\n",
       "        text-align: right;\n",
       "    }\n",
       "</style>\n",
       "<table border=\"1\" class=\"dataframe\">\n",
       "  <thead>\n",
       "    <tr style=\"text-align: right;\">\n",
       "      <th></th>\n",
       "      <th>name</th>\n",
       "      <th>r2</th>\n",
       "      <th>mae</th>\n",
       "    </tr>\n",
       "  </thead>\n",
       "  <tbody>\n",
       "    <tr>\n",
       "      <th>10</th>\n",
       "      <td>xgboost</td>\n",
       "      <td>0.892659</td>\n",
       "      <td>0.445935</td>\n",
       "    </tr>\n",
       "    <tr>\n",
       "      <th>6</th>\n",
       "      <td>extra trees</td>\n",
       "      <td>0.890264</td>\n",
       "      <td>0.448743</td>\n",
       "    </tr>\n",
       "    <tr>\n",
       "      <th>5</th>\n",
       "      <td>random forest</td>\n",
       "      <td>0.894033</td>\n",
       "      <td>0.449129</td>\n",
       "    </tr>\n",
       "    <tr>\n",
       "      <th>7</th>\n",
       "      <td>gradient boosting</td>\n",
       "      <td>0.880610</td>\n",
       "      <td>0.549436</td>\n",
       "    </tr>\n",
       "    <tr>\n",
       "      <th>4</th>\n",
       "      <td>decision tree</td>\n",
       "      <td>0.817355</td>\n",
       "      <td>0.617677</td>\n",
       "    </tr>\n",
       "    <tr>\n",
       "      <th>9</th>\n",
       "      <td>mlp</td>\n",
       "      <td>0.848239</td>\n",
       "      <td>0.618603</td>\n",
       "    </tr>\n",
       "    <tr>\n",
       "      <th>1</th>\n",
       "      <td>svr</td>\n",
       "      <td>0.852491</td>\n",
       "      <td>0.625393</td>\n",
       "    </tr>\n",
       "    <tr>\n",
       "      <th>0</th>\n",
       "      <td>linear_reg</td>\n",
       "      <td>0.805440</td>\n",
       "      <td>0.654150</td>\n",
       "    </tr>\n",
       "    <tr>\n",
       "      <th>2</th>\n",
       "      <td>ridge</td>\n",
       "      <td>0.805418</td>\n",
       "      <td>0.654890</td>\n",
       "    </tr>\n",
       "    <tr>\n",
       "      <th>8</th>\n",
       "      <td>adaboost</td>\n",
       "      <td>0.798500</td>\n",
       "      <td>0.684113</td>\n",
       "    </tr>\n",
       "    <tr>\n",
       "      <th>3</th>\n",
       "      <td>LASSO</td>\n",
       "      <td>-0.002920</td>\n",
       "      <td>1.427157</td>\n",
       "    </tr>\n",
       "  </tbody>\n",
       "</table>\n",
       "</div>"
      ],
      "text/plain": [
       "                 name        r2       mae\n",
       "10            xgboost  0.892659  0.445935\n",
       "6         extra trees  0.890264  0.448743\n",
       "5       random forest  0.894033  0.449129\n",
       "7   gradient boosting  0.880610  0.549436\n",
       "4       decision tree  0.817355  0.617677\n",
       "9                 mlp  0.848239  0.618603\n",
       "1                 svr  0.852491  0.625393\n",
       "0          linear_reg  0.805440  0.654150\n",
       "2               ridge  0.805418  0.654890\n",
       "8            adaboost  0.798500  0.684113\n",
       "3               LASSO -0.002920  1.427157"
      ]
     },
     "execution_count": 16,
     "metadata": {},
     "output_type": "execute_result"
    }
   ],
   "source": [
    "model_df = pd.DataFrame(model_output, columns=['name','r2','mae'])\n",
    "model_df.sort_values(['mae'])"
   ]
  },
  {
   "cell_type": "markdown",
   "id": "1fa923cc-34b6-498b-a17b-a67df3590d95",
   "metadata": {},
   "source": [
    "# Hyper parameter optimization \n",
    "HYPEROPT is a powerful python library that uses bayesian optimization to search through an hyperparameter space of values and find the best possible values that yield the minimum of the loss function.The optimization process consists of 4 parts which are as follows-\n",
    "\n",
    "1. **Initialize domain space**\n",
    "The domain space is the input values over which we want to search.\n",
    "\n",
    "2. **Define objective function**\n",
    "The objective function can be any function which returns a real value that we want to minimize. In this case, we want to minimize the validation error of a machine learning model with respect to the hyperparameters. If the real value is accuracy, then we want to maximize it. Then the function should return the negative of that metric.\n",
    "\n",
    "3. **Optimization algorithm**\n",
    "It is the method used to construct the surrogate objective function and choose the next values to evaluate.\n",
    "\n",
    "4. **Results**\n",
    "Results are score or value pairs that the algorithm uses to build the model."
   ]
  },
  {
   "cell_type": "code",
   "execution_count": 17,
   "id": "9cd8548b-fad6-4db8-828f-b36ac4616945",
   "metadata": {},
   "outputs": [],
   "source": [
    "X_train = Processing_pipeline.fit_transform(X_train,y_train)\n",
    "X_test = Processing_pipeline.transform(X_test)"
   ]
  },
  {
   "cell_type": "code",
   "execution_count": 18,
   "id": "ad950c9a-4d8e-479c-a2ba-9fd33fd350da",
   "metadata": {},
   "outputs": [],
   "source": [
    "# Defining the domain space\n",
    "space = {\n",
    "    'max_depth': hp.quniform(\"max_depth\", 3, 18, 1),\n",
    "    'gamma': hp.uniform('gamma', 0, 5),\n",
    "    'reg_alpha': hp.uniform('reg_alpha', 0, 1),\n",
    "    'reg_lambda': hp.uniform('reg_lambda', 0, 1),\n",
    "    'colsample_bytree': hp.uniform('colsample_bytree', 0.5, 1),\n",
    "    'min_child_weight': hp.quniform('min_child_weight', 0, 10, 1),\n",
    "    'n_estimators': 180,\n",
    "    'seed': 0 }\n",
    "\n",
    "\n",
    "def objective(space):\n",
    "    model = XGBRegressor(\n",
    "        n_estimators=int(space['n_estimators']),\n",
    "        max_depth=int(space['max_depth']),\n",
    "        gamma=space['gamma'],\n",
    "        reg_alpha=space['reg_alpha'],\n",
    "        reg_lambda=space['reg_lambda'],\n",
    "        colsample_bytree=space['colsample_bytree'],\n",
    "        min_child_weight=int(space['min_child_weight']),\n",
    "        random_state=space['seed'])\n",
    "\n",
    "    # Training the model\n",
    "    model.fit(X_train, y_train)\n",
    "\n",
    "    # Getting predictions from the trained model and computing mean absolute error\n",
    "    y_pred = model.predict(X_test)\n",
    "    y_pred = np.expm1(y_pred)\n",
    "    mae = mean_absolute_error(y_test, y_pred)\n",
    "    print(\"MAE:\", mae)\n",
    "    return {'loss': mae, 'status': STATUS_OK }"
   ]
  },
  {
   "cell_type": "code",
   "execution_count": 19,
   "id": "4c699f8d-80f3-48de-b4e9-7b1e2f6b51af",
   "metadata": {},
   "outputs": [
    {
     "name": "stdout",
     "output_type": "stream",
     "text": [
      "MAE:                                                                            \n",
      "0.6039791411912743                                                              \n",
      "MAE:                                                                            \n",
      "0.533734328109677                                                               \n",
      "MAE:                                                                            \n",
      "0.5996922655987138                                                              \n",
      "MAE:                                                                            \n",
      "0.6083031537913475                                                              \n",
      "MAE:                                                                            \n",
      "0.5988240159699897                                                              \n",
      "MAE:                                                                            \n",
      "0.6132570828610108                                                              \n",
      "MAE:                                                                            \n",
      "0.6253580675225298                                                              \n",
      "MAE:                                                                            \n",
      "0.5859891744701803                                                              \n",
      "MAE:                                                                            \n",
      "0.6199216620401174                                                              \n",
      "MAE:                                                                            \n",
      "0.6156689586479123                                                              \n",
      "MAE:                                                                            \n",
      "0.5752979978853915                                                              \n",
      "MAE:                                                                            \n",
      "0.605797263970896                                                               \n",
      "MAE:                                                                            \n",
      "0.6273250784914032                                                              \n",
      "MAE:                                                                            \n",
      "0.5961542841326288                                                              \n",
      "MAE:                                                                            \n",
      "0.5972726206458917                                                              \n",
      "MAE:                                                                            \n",
      "0.5704368026256561                                                              \n",
      "MAE:                                                                            \n",
      "0.6252123369489397                                                              \n",
      "MAE:                                                                            \n",
      "0.5883844981093367                                                              \n",
      "MAE:                                                                            \n",
      "0.5770912257723447                                                              \n",
      "MAE:                                                                            \n",
      "0.6273782799945158                                                              \n",
      "MAE:                                                                            \n",
      "0.5036355369531808                                                              \n",
      "MAE:                                                                            \n",
      "0.4993133125986371                                                              \n",
      "MAE:                                                                            \n",
      "0.4781617589257344                                                              \n",
      "MAE:                                                                            \n",
      "0.4968374281190022                                                              \n",
      "MAE:                                                                            \n",
      "0.5899418649453074                                                              \n",
      "MAE:                                                                            \n",
      "0.5985162390460487                                                              \n",
      "MAE:                                                                            \n",
      "0.5593286880765642                                                              \n",
      "MAE:                                                                            \n",
      "0.49491213555095576                                                             \n",
      "MAE:                                                                            \n",
      "0.6046261101009466                                                              \n",
      "MAE:                                                                            \n",
      "0.5985545081711617                                                              \n",
      "MAE:                                                                            \n",
      "0.5528229681023028                                                              \n",
      "MAE:                                                                            \n",
      "0.5735171584962797                                                              \n",
      "MAE:                                                                            \n",
      "0.5489043493631507                                                              \n",
      "MAE:                                                                            \n",
      "0.5791312384645478                                                              \n",
      "MAE:                                                                            \n",
      "0.5887782587464115                                                              \n",
      "MAE:                                                                            \n",
      "0.5440919088555985                                                              \n",
      "MAE:                                                                            \n",
      "0.5720806338767044                                                              \n",
      "MAE:                                                                            \n",
      "0.6125322805613029                                                              \n",
      "MAE:                                                                            \n",
      "0.6154874542380582                                                              \n",
      "MAE:                                                                            \n",
      "0.5845324604451155                                                              \n",
      "MAE:                                                                            \n",
      "0.6163158922135329                                                              \n",
      "MAE:                                                                            \n",
      "0.5707467219769454                                                              \n",
      "MAE:                                                                            \n",
      "0.6149242084707532                                                              \n",
      "MAE:                                                                            \n",
      "0.5709273896898542                                                              \n",
      "MAE:                                                                            \n",
      "0.49308405085972373                                                             \n",
      "MAE:                                                                            \n",
      "0.5707694379782475                                                              \n",
      "MAE:                                                                            \n",
      "0.5831284830490081                                                              \n",
      "MAE:                                                                            \n",
      "0.5736388118407305                                                              \n",
      "MAE:                                                                            \n",
      "0.5592092315950313                                                              \n",
      "MAE:                                                                            \n",
      "0.6007902222160532                                                              \n",
      "MAE:                                                                            \n",
      "0.6043517376495008                                                              \n",
      "MAE:                                                                            \n",
      "0.6268929850874828                                                              \n",
      "MAE:                                                                            \n",
      "0.583748457457839                                                               \n",
      "MAE:                                                                            \n",
      "0.6159610889679243                                                              \n",
      "MAE:                                                                            \n",
      "0.6186597150093367                                                              \n",
      "MAE:                                                                            \n",
      "0.5489002705682225                                                              \n",
      "MAE:                                                                            \n",
      "0.5479762456457155                                                              \n",
      "MAE:                                                                            \n",
      "0.5509242237115106                                                              \n",
      "MAE:                                                                            \n",
      "0.5302914511636526                                                              \n",
      "MAE:                                                                            \n",
      "0.5967077985491072                                                              \n",
      "MAE:                                                                            \n",
      "0.5961094297801747                                                              \n",
      "MAE:                                                                            \n",
      "0.6165946354805922                                                              \n",
      "MAE:                                                                            \n",
      "0.5949514456195991                                                              \n",
      "MAE:                                                                            \n",
      "0.5602325605364407                                                              \n",
      "MAE:                                                                            \n",
      "0.6027000561481765                                                              \n",
      "MAE:                                                                            \n",
      "0.5014596230763347                                                              \n",
      "MAE:                                                                            \n",
      "0.5331159035177792                                                              \n",
      "MAE:                                                                            \n",
      "0.5672760195291343                                                              \n",
      "MAE:                                                                            \n",
      "0.5686104555069899                                                              \n",
      "MAE:                                                                            \n",
      "0.45823892814371764                                                             \n",
      "MAE:                                                                            \n",
      "0.5567582859131468                                                              \n",
      "MAE:                                                                            \n",
      "0.5434590805979336                                                              \n",
      "MAE:                                                                            \n",
      "0.4497076721191406                                                              \n",
      "MAE:                                                                            \n",
      "0.5586062248374234                                                              \n",
      "MAE:                                                                            \n",
      "0.566721601939001                                                               \n",
      "MAE:                                                                            \n",
      "0.5492751124285851                                                              \n",
      "MAE:                                                                            \n",
      "0.4317201067960564                                                              \n",
      "MAE:                                                                            \n",
      "0.5267972243753801                                                              \n",
      "MAE:                                                                            \n",
      "0.5835396371048037                                                              \n",
      "MAE:                                                                            \n",
      "0.5684715907814122                                                              \n",
      "MAE:                                                                            \n",
      "0.5238916526201393                                                              \n",
      "MAE:                                                                            \n",
      "0.47584506213464656                                                             \n",
      "MAE:                                                                            \n",
      "0.5890578072231357                                                              \n",
      "MAE:                                                                            \n",
      "0.5769075384821211                                                              \n",
      "MAE:                                                                            \n",
      "0.579881410270178                                                               \n",
      "MAE:                                                                            \n",
      "0.57286745962175                                                                \n",
      "MAE:                                                                            \n",
      "0.5641134736457792                                                              \n",
      "MAE:                                                                            \n",
      "0.6001582025600081                                                              \n",
      "MAE:                                                                            \n",
      "0.5505348742348808                                                              \n",
      "MAE:                                                                            \n",
      "0.612993500226686                                                               \n",
      "MAE:                                                                            \n",
      "0.5898906494288885                                                              \n",
      "MAE:                                                                            \n",
      "0.5838241639858535                                                              \n",
      "MAE:                                                                            \n",
      "0.5539870687412615                                                              \n",
      "MAE:                                                                            \n",
      "0.6096970837256488                                                              \n",
      "MAE:                                                                            \n",
      "0.6042238429915003                                                              \n",
      "MAE:                                                                            \n",
      "0.6160400532554178                                                              \n",
      "MAE:                                                                            \n",
      "0.5625890705184776                                                              \n",
      "MAE:                                                                            \n",
      "0.6023684067726135                                                              \n",
      "MAE:                                                                            \n",
      "0.5537641037572332                                                              \n",
      "MAE:                                                                            \n",
      "0.5015629719605966                                                              \n",
      "100%|███████| 100/100 [00:15<00:00,  6.55trial/s, best loss: 0.4317201067960564]\n"
     ]
    }
   ],
   "source": [
    "trials = Trials()\n",
    "best_hyperparams = fmin(fn=objective,space=space,algo=tpe.suggest,max_evals=100,trials=trials)"
   ]
  },
  {
   "cell_type": "code",
   "execution_count": 20,
   "id": "f3c053af-7b56-4b64-8b97-6d056e60bdca",
   "metadata": {},
   "outputs": [
    {
     "name": "stdout",
     "output_type": "stream",
     "text": [
      "The best hyperparameters are :  \n",
      "\n",
      "{'colsample_bytree': 0.9998986669717084, 'gamma': 0.003750998198734907, 'max_depth': 11.0, 'min_child_weight': 2.0, 'reg_alpha': 0.2766951313271483, 'reg_lambda': 0.039111730323653546}\n"
     ]
    }
   ],
   "source": [
    "print(\"The best hyperparameters are : \",\"\\n\")\n",
    "print(best_hyperparams)"
   ]
  },
  {
   "cell_type": "markdown",
   "id": "fa1d5e9e-2d76-410b-9cd4-f4d1e5aca5a0",
   "metadata": {},
   "source": [
    "# Model training"
   ]
  },
  {
   "cell_type": "code",
   "execution_count": 41,
   "id": "6b151bab-1599-48c6-8d76-ddae3fb5e5b9",
   "metadata": {},
   "outputs": [],
   "source": [
    "# Create the XGBoost Regressor with the best hyperparameters\n",
    "regressor = XGBRegressor(\n",
    "    max_depth=int(best_hyperparams['max_depth']),\n",
    "    gamma=best_hyperparams['gamma'],\n",
    "    reg_alpha=best_hyperparams['reg_alpha'],\n",
    "    reg_lambda=best_hyperparams['reg_lambda'],\n",
    "    colsample_bytree=best_hyperparams['colsample_bytree'],\n",
    "    min_child_weight=best_hyperparams['min_child_weight'],\n",
    "    n_estimators=180,\n",
    "    random_state=0)\n",
    "\n",
    "# Training the model\n",
    "regressor.fit(X_train,y_train)"
   ]
  },
  {
   "cell_type": "markdown",
   "id": "6e2e2c0f-79e9-4611-99e9-c85ba21b43f5",
   "metadata": {},
   "source": [
    "# Model evaluation"
   ]
  },
  {
   "cell_type": "code",
   "execution_count": 43,
   "id": "fcf74e9c-3ffa-41b6-8fdb-f1bb20e6c3d0",
   "metadata": {},
   "outputs": [
    {
     "name": "stdout",
     "output_type": "stream",
     "text": [
      "Average R2 SCORE :  0.8908036551397064\n"
     ]
    }
   ],
   "source": [
    "# K-fold cross-validation\n",
    "kfold = KFold(n_splits=10, shuffle=True, random_state=42)\n",
    "scores = cross_val_score(regressor, X_train, y_train, cv=kfold, scoring='r2')\n",
    "print(\"Average R2 SCORE : \",scores.mean())"
   ]
  },
  {
   "cell_type": "code",
   "execution_count": 44,
   "id": "19a6eebb-eae1-45d8-974b-15f87e8ebde8",
   "metadata": {},
   "outputs": [
    {
     "name": "stdout",
     "output_type": "stream",
     "text": [
      "Mean Absolute error: 0.4317201067960564\n"
     ]
    }
   ],
   "source": [
    "# Getting predictions\n",
    "y_pred = regressor.predict(X_test)\n",
    "y_pred = np.expm1(y_pred)\n",
    "print(\"Mean Absolute error:\",mean_absolute_error(y_test,y_pred))"
   ]
  },
  {
   "cell_type": "markdown",
   "id": "b2db9bef-178c-413e-b0cd-308ba9a866cd",
   "metadata": {},
   "source": [
    "# Saving the trained Model"
   ]
  },
  {
   "cell_type": "code",
   "execution_count": 45,
   "id": "05272939-a840-4d21-89ee-53f6c2e44587",
   "metadata": {},
   "outputs": [],
   "source": [
    "# Specify the file path where you want to save the model\n",
    "model_path = 'Trained_Model/xgboost_regressor_model.bin'\n",
    "\n",
    "# Save the model to the specified file\n",
    "regressor.save_model(model_path)"
   ]
  }
 ],
 "metadata": {
  "kernelspec": {
   "display_name": "Python 3 (ipykernel)",
   "language": "python",
   "name": "python3"
  },
  "language_info": {
   "codemirror_mode": {
    "name": "ipython",
    "version": 3
   },
   "file_extension": ".py",
   "mimetype": "text/x-python",
   "name": "python",
   "nbconvert_exporter": "python",
   "pygments_lexer": "ipython3",
   "version": "3.11.4"
  }
 },
 "nbformat": 4,
 "nbformat_minor": 5
}
