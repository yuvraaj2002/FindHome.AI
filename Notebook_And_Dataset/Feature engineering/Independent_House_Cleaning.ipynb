{
 "cells": [
  {
   "cell_type": "markdown",
   "id": "4ef9f1d7-58da-4780-ad63-a6416775dbd7",
   "metadata": {},
   "source": [
    "# Step 1: Importing the libraries"
   ]
  },
  {
   "cell_type": "code",
   "execution_count": 1,
   "id": "38f6896b-c16a-41b2-9ac7-48f9712dc305",
   "metadata": {},
   "outputs": [],
   "source": [
    "import pandas as pd\n",
    "import numpy as np\n",
    "import missingno as msno\n",
    "import matplotlib.pyplot as plt\n",
    "import plotly.express as px\n",
    "import re\n",
    "import seaborn as sns\n",
    "\n",
    "# Loading the flats data\n",
    "Ih_df = pd.read_csv(\"Raw_data/Independent_Houses.csv\")"
   ]
  },
  {
   "cell_type": "code",
   "execution_count": 2,
   "id": "fb08356d-4100-41b0-a447-062e1516a9f8",
   "metadata": {},
   "outputs": [],
   "source": [
    "# This will make sure we are getting full view of targetted rows and columns\n",
    "pd.set_option('display.max_rows', None)\n",
    "pd.set_option('display.max_columns', None)"
   ]
  },
  {
   "cell_type": "markdown",
   "id": "e06f1076-cca0-45bc-8142-5bb46c358f84",
   "metadata": {},
   "source": [
    "# Step 2: Exploratory data analysis"
   ]
  },
  {
   "cell_type": "code",
   "execution_count": 3,
   "id": "42d7af91-702a-46fb-bf52-c18da08a3170",
   "metadata": {},
   "outputs": [
    {
     "data": {
      "text/plain": [
       "(1095, 21)"
      ]
     },
     "execution_count": 3,
     "metadata": {},
     "output_type": "execute_result"
    }
   ],
   "source": [
    "# Shape of the dataframe\n",
    "Ih_df.shape"
   ]
  },
  {
   "cell_type": "markdown",
   "id": "8799628f-1e58-4c48-9a59-ecdb462fd180",
   "metadata": {},
   "source": [
    "'property_name', 'Property_Type', 'society', 'price', 'Price_Per_SQFT',\r\n",
    "       'Flat_Area', 'areaWithType', 'bedRoom', 'bathroom', 'balcony',\r\n",
    "       'additionalRoom', 'address', 'floorNum', 'facing', 'agePossession',\r\n",
    "       'nearbyLocations', 'description', 'furnishDetails', 'features',\r\n",
    "       'rating'"
   ]
  },
  {
   "cell_type": "code",
   "execution_count": 4,
   "id": "ea35c5a4-df88-466d-8a40-4766dc755387",
   "metadata": {},
   "outputs": [
    {
     "data": {
      "text/html": [
       "<div>\n",
       "<style scoped>\n",
       "    .dataframe tbody tr th:only-of-type {\n",
       "        vertical-align: middle;\n",
       "    }\n",
       "\n",
       "    .dataframe tbody tr th {\n",
       "        vertical-align: top;\n",
       "    }\n",
       "\n",
       "    .dataframe thead th {\n",
       "        text-align: right;\n",
       "    }\n",
       "</style>\n",
       "<table border=\"1\" class=\"dataframe\">\n",
       "  <thead>\n",
       "    <tr style=\"text-align: right;\">\n",
       "      <th></th>\n",
       "      <th>property_name</th>\n",
       "      <th>link</th>\n",
       "      <th>society</th>\n",
       "      <th>price</th>\n",
       "      <th>rate</th>\n",
       "      <th>area</th>\n",
       "      <th>areaWithType</th>\n",
       "      <th>bedRoom</th>\n",
       "      <th>bathroom</th>\n",
       "      <th>balcony</th>\n",
       "      <th>additionalRoom</th>\n",
       "      <th>address</th>\n",
       "      <th>noOfFloor</th>\n",
       "      <th>facing</th>\n",
       "      <th>agePossession</th>\n",
       "      <th>nearbyLocations</th>\n",
       "      <th>description</th>\n",
       "      <th>furnishDetails</th>\n",
       "      <th>features</th>\n",
       "      <th>rating</th>\n",
       "      <th>property_id</th>\n",
       "    </tr>\n",
       "  </thead>\n",
       "  <tbody>\n",
       "    <tr>\n",
       "      <th>663</th>\n",
       "      <td>5 Bedroom House for sale in Sector 15 Gurgaon</td>\n",
       "      <td>https://www.99acres.com/5-bhk-bedroom-independ...</td>\n",
       "      <td>Sector 15 Part 2 RWA</td>\n",
       "      <td>10 Crore</td>\n",
       "      <td>₹ 22,222/sq.ft.</td>\n",
       "      <td>(420 sq.m.) Plot Area</td>\n",
       "      <td>Plot area 502(419.74 sq.m.)</td>\n",
       "      <td>5 Bedrooms</td>\n",
       "      <td>5 Bathrooms</td>\n",
       "      <td>2 Balconies</td>\n",
       "      <td>NaN</td>\n",
       "      <td>Sector 15 Gurgaon, Gurgaon, Haryana</td>\n",
       "      <td>2 Floors</td>\n",
       "      <td>East</td>\n",
       "      <td>10+ Year Old</td>\n",
       "      <td>['Hanuman Mandir', 'State bank of india ATM', ...</td>\n",
       "      <td>Gated community and near market,school and hig...</td>\n",
       "      <td>[]</td>\n",
       "      <td>['Feng Shui / Vaastu Compliant', 'Private Gard...</td>\n",
       "      <td>['Environment4.5 out of 5', 'Lifestyle4 out of...</td>\n",
       "      <td>Z65087414</td>\n",
       "    </tr>\n",
       "    <tr>\n",
       "      <th>656</th>\n",
       "      <td>4 Bedroom House for sale in DLF Phase 3</td>\n",
       "      <td>https://www.99acres.com/4-bhk-bedroom-independ...</td>\n",
       "      <td>NaN</td>\n",
       "      <td>2.6 Crore</td>\n",
       "      <td>₹ 24,074/sq.ft.</td>\n",
       "      <td>(100 sq.m.) Plot Area</td>\n",
       "      <td>Plot area 120(100.34 sq.m.)</td>\n",
       "      <td>4 Bedrooms</td>\n",
       "      <td>4 Bathrooms</td>\n",
       "      <td>3+ Balconies</td>\n",
       "      <td>Study Room,Store Room,Pooja Room</td>\n",
       "      <td>DLF Phase 3, Gurgaon, Haryana</td>\n",
       "      <td>4 Floors</td>\n",
       "      <td>NaN</td>\n",
       "      <td>1 to 5 Year Old</td>\n",
       "      <td>['Dlf phase 3 metro station', 'Micromax moulsa...</td>\n",
       "      <td>Interested to sell independent house/villa.It ...</td>\n",
       "      <td>['4 Bed', '7 Wardrobe', '1 Water Purifier', '9...</td>\n",
       "      <td>NaN</td>\n",
       "      <td>['Environment4 out of 5', 'Lifestyle5 out of 5...</td>\n",
       "      <td>Y61487770</td>\n",
       "    </tr>\n",
       "    <tr>\n",
       "      <th>124</th>\n",
       "      <td>5 Bedroom House for sale in Sector 111 Gurgaon</td>\n",
       "      <td>https://www.99acres.com/5-bhk-bedroom-independ...</td>\n",
       "      <td>Puri Diplomatic Greens4.0 ★</td>\n",
       "      <td>NaN</td>\n",
       "      <td>₹ 12,842/sq.ft.</td>\n",
       "      <td>(650 sq.m.) Built-up Area</td>\n",
       "      <td>NaN</td>\n",
       "      <td>NaN</td>\n",
       "      <td>NaN</td>\n",
       "      <td>NaN</td>\n",
       "      <td>NaN</td>\n",
       "      <td>Sector 111 Gurgaon, Gurgaon, Haryana</td>\n",
       "      <td>NaN</td>\n",
       "      <td>NaN</td>\n",
       "      <td>NaN</td>\n",
       "      <td>['Dwarka Sector 21 Metro Station', 'Gurgaon Dr...</td>\n",
       "      <td>Puri diplomatic greens in sector-111 gurgaon, ...</td>\n",
       "      <td>NaN</td>\n",
       "      <td>NaN</td>\n",
       "      <td>NaN</td>\n",
       "      <td>L69894396</td>\n",
       "    </tr>\n",
       "  </tbody>\n",
       "</table>\n",
       "</div>"
      ],
      "text/plain": [
       "                                      property_name  \\\n",
       "663   5 Bedroom House for sale in Sector 15 Gurgaon   \n",
       "656         4 Bedroom House for sale in DLF Phase 3   \n",
       "124  5 Bedroom House for sale in Sector 111 Gurgaon   \n",
       "\n",
       "                                                  link  \\\n",
       "663  https://www.99acres.com/5-bhk-bedroom-independ...   \n",
       "656  https://www.99acres.com/4-bhk-bedroom-independ...   \n",
       "124  https://www.99acres.com/5-bhk-bedroom-independ...   \n",
       "\n",
       "                         society      price             rate  \\\n",
       "663         Sector 15 Part 2 RWA   10 Crore  ₹ 22,222/sq.ft.   \n",
       "656                          NaN  2.6 Crore  ₹ 24,074/sq.ft.   \n",
       "124  Puri Diplomatic Greens4.0 ★        NaN  ₹ 12,842/sq.ft.   \n",
       "\n",
       "                          area                 areaWithType     bedRoom  \\\n",
       "663      (420 sq.m.) Plot Area  Plot area 502(419.74 sq.m.)  5 Bedrooms   \n",
       "656      (100 sq.m.) Plot Area  Plot area 120(100.34 sq.m.)  4 Bedrooms   \n",
       "124  (650 sq.m.) Built-up Area                          NaN         NaN   \n",
       "\n",
       "        bathroom       balcony                    additionalRoom  \\\n",
       "663  5 Bathrooms   2 Balconies                               NaN   \n",
       "656  4 Bathrooms  3+ Balconies  Study Room,Store Room,Pooja Room   \n",
       "124          NaN           NaN                               NaN   \n",
       "\n",
       "                                  address noOfFloor facing    agePossession  \\\n",
       "663   Sector 15 Gurgaon, Gurgaon, Haryana  2 Floors   East     10+ Year Old   \n",
       "656         DLF Phase 3, Gurgaon, Haryana  4 Floors    NaN  1 to 5 Year Old   \n",
       "124  Sector 111 Gurgaon, Gurgaon, Haryana       NaN    NaN              NaN   \n",
       "\n",
       "                                       nearbyLocations  \\\n",
       "663  ['Hanuman Mandir', 'State bank of india ATM', ...   \n",
       "656  ['Dlf phase 3 metro station', 'Micromax moulsa...   \n",
       "124  ['Dwarka Sector 21 Metro Station', 'Gurgaon Dr...   \n",
       "\n",
       "                                           description  \\\n",
       "663  Gated community and near market,school and hig...   \n",
       "656  Interested to sell independent house/villa.It ...   \n",
       "124  Puri diplomatic greens in sector-111 gurgaon, ...   \n",
       "\n",
       "                                        furnishDetails  \\\n",
       "663                                                 []   \n",
       "656  ['4 Bed', '7 Wardrobe', '1 Water Purifier', '9...   \n",
       "124                                                NaN   \n",
       "\n",
       "                                              features  \\\n",
       "663  ['Feng Shui / Vaastu Compliant', 'Private Gard...   \n",
       "656                                                NaN   \n",
       "124                                                NaN   \n",
       "\n",
       "                                                rating property_id  \n",
       "663  ['Environment4.5 out of 5', 'Lifestyle4 out of...   Z65087414  \n",
       "656  ['Environment4 out of 5', 'Lifestyle5 out of 5...   Y61487770  \n",
       "124                                                NaN   L69894396  "
      ]
     },
     "execution_count": 4,
     "metadata": {},
     "output_type": "execute_result"
    }
   ],
   "source": [
    "# 3 Random rows from dataframe\n",
    "Ih_df.sample(3)"
   ]
  },
  {
   "cell_type": "code",
   "execution_count": 5,
   "id": "9fe032dd-2ba8-4c03-bbe5-2a9b3b6cd0d3",
   "metadata": {},
   "outputs": [
    {
     "data": {
      "image/png": "[encoded data removed]",
      "text/plain": [
       "<Figure size 1500x300 with 3 Axes>"
      ]
     },
     "metadata": {},
     "output_type": "display_data"
    }
   ],
   "source": [
    "# Visualize missing values using a bar chart\n",
    "msno.bar(Ih_df, figsize=(15, 3), color=\"dodgerblue\", sort=\"ascending\", fontsize=12)\n",
    "plt.show()"
   ]
  },
  {
   "cell_type": "code",
   "execution_count": 6,
   "id": "2c221f27-25ec-4ba8-a3e0-efb0fca41f47",
   "metadata": {},
   "outputs": [
    {
     "name": "stdout",
     "output_type": "stream",
     "text": [
      "Duplicate values found. Removing duplicates...\n"
     ]
    }
   ],
   "source": [
    "# Checking for duplicate values\n",
    "if Ih_df.duplicated().sum() == 0:\n",
    "    print(\"No duplicate values found.\")\n",
    "else:\n",
    "    print(\"Duplicate values found. Removing duplicates...\")\n",
    "    Ih_df.drop_duplicates(inplace=True)"
   ]
  },
  {
   "cell_type": "code",
   "execution_count": 7,
   "id": "20bf2332-4e9a-458e-af57-83d571671ec1",
   "metadata": {},
   "outputs": [],
   "source": [
    "# Dropping unnecessary columns from dataframe\n",
    "Ih_df.drop(['property_id','link'],axis=1,inplace=True)"
   ]
  },
  {
   "cell_type": "code",
   "execution_count": 8,
   "id": "e05c5dd9-9f32-4857-beb3-4b6ea202fa1f",
   "metadata": {},
   "outputs": [
    {
     "name": "stdout",
     "output_type": "stream",
     "text": [
      "<class 'pandas.core.frame.DataFrame'>\n",
      "Int64Index: 1082 entries, 0 to 1094\n",
      "Data columns (total 19 columns):\n",
      " #   Column           Non-Null Count  Dtype \n",
      "---  ------           --------------  ----- \n",
      " 0   property_name    1082 non-null   object\n",
      " 1   society          463 non-null    object\n",
      " 2   price            955 non-null    object\n",
      " 3   rate             1041 non-null   object\n",
      " 4   area             1082 non-null   object\n",
      " 5   areaWithType     974 non-null    object\n",
      " 6   bedRoom          974 non-null    object\n",
      " 7   bathroom         974 non-null    object\n",
      " 8   balcony          974 non-null    object\n",
      " 9   additionalRoom   578 non-null    object\n",
      " 10  address          1018 non-null   object\n",
      " 11  noOfFloor        955 non-null    object\n",
      " 12  facing           662 non-null    object\n",
      " 13  agePossession    974 non-null    object\n",
      " 14  nearbyLocations  900 non-null    object\n",
      " 15  description      1023 non-null   object\n",
      " 16  furnishDetails   732 non-null    object\n",
      " 17  features         662 non-null    object\n",
      " 18  rating           894 non-null    object\n",
      "dtypes: object(19)\n",
      "memory usage: 169.1+ KB\n"
     ]
    }
   ],
   "source": [
    "# Let's look at the features information like the data type used and the number of non null count\n",
    "Ih_df.info()"
   ]
  },
  {
   "cell_type": "markdown",
   "id": "c9031fbb-03a6-4906-9f61-77079ecc27a7",
   "metadata": {},
   "source": [
    "### ▶️  Handling society feature\n",
    "Given the potential for the same society name to appear in both upper and lower case, we aim to mitigate such inconsistencies by converting all society names to lowercase. Additionally, we will replace any 'NaN' values with the term 'independent'. This substitution serves to signify that in cases where a house isn't associated with a specific society, it can be considered independent from any societal affiliation."
   ]
  },
  {
   "cell_type": "code",
   "execution_count": 9,
   "id": "a4b9a06f-b2d3-4b09-a0ca-0b6a4bfda974",
   "metadata": {},
   "outputs": [],
   "source": [
    "# Removing any rating and lowercasing the society names to reduce the dimensionality \n",
    "Ih_df['society'] = Ih_df['society'].apply(lambda name: re.sub(r'\\d+(\\.\\d+)?\\s?★', '', str(name)).strip()).str.lower()\n",
    "Ih_df['society'] = Ih_df['society'].str.replace('nan','independent')"
   ]
  },
  {
   "cell_type": "markdown",
   "id": "606b0162-8163-425a-8524-802693ee40c8",
   "metadata": {},
   "source": [
    "### ▶️ Removing irrelevent rows from price feature\n",
    "By closely observing the `price` feature we will see that there is a particular record with price = 'Price on Request' so we will remove it from the dataframe."
   ]
  },
  {
   "cell_type": "code",
   "execution_count": 10,
   "id": "5c9865f3-5511-4ed0-961c-6ab959dcf866",
   "metadata": {},
   "outputs": [],
   "source": [
    "# Remove rows with 'Price on Request'\n",
    "Ih_df = Ih_df[Ih_df['price'] != 'Price on Request']\n",
    "\n",
    "# Reset the indexes\n",
    "Ih_df.reset_index(drop=True, inplace=True)"
   ]
  },
  {
   "cell_type": "markdown",
   "id": "8111a44c-169f-47b3-ac93-78ad510aef0b",
   "metadata": {},
   "source": [
    "### ▶️ Standardizing the price from Lakhs to Crore"
   ]
  },
  {
   "cell_type": "code",
   "execution_count": 11,
   "id": "93a00b89-e78d-41d8-8d58-6d098b1fc7dd",
   "metadata": {},
   "outputs": [],
   "source": [
    "# Converting Lac to Crore\n",
    "for i in range(len(Ih_df)):\n",
    "    try:\n",
    "        item = Ih_df.loc[i, 'price']\n",
    "\n",
    "        # Check if the value is null\n",
    "        if pd.isnull(item):\n",
    "            Ih_df.loc[i, 'price'] = np.nan\n",
    "        else:\n",
    "            # Check if the value is in Lac format\n",
    "            if item.split()[1] == 'Lac':\n",
    "                Ih_df.loc[i, 'price'] = round(float(float(item.split()[0])/100), 2)\n",
    "            else:\n",
    "                Ih_df.loc[i, 'price'] = round(float(item.split()[0]), 2)\n",
    "    except Exception as e:\n",
    "        print(e)\n",
    "        print(\"Index: \", i)"
   ]
  },
  {
   "cell_type": "code",
   "execution_count": 12,
   "id": "69eb61e7-ded8-4bb6-a639-da733e71cbed",
   "metadata": {},
   "outputs": [
    {
     "name": "stdout",
     "output_type": "stream",
     "text": [
      "Total sum of mising values :  127\n",
      "Total percentage of mising values :  11.85\n"
     ]
    }
   ],
   "source": [
    "print(\"Total sum of mising values : \",Ih_df['price'].isnull().sum())\n",
    "print(\"Total percentage of mising values : \",np.round(Ih_df['price'].isnull().mean()*100,2))"
   ]
  },
  {
   "cell_type": "markdown",
   "id": "c2b6aa4b-fc58-42d0-a6ff-291c96390e7a",
   "metadata": {},
   "source": [
    "### ▶️ Removing price characters from rate feature "
   ]
  },
  {
   "cell_type": "code",
   "execution_count": 14,
   "id": "fb6ce79d-5d3f-4642-83e7-74716e7212bd",
   "metadata": {},
   "outputs": [],
   "source": [
    "# Imputing the missing values with '₹ 0/sq.ft.'\n",
    "Ih_df['rate'] = Ih_df['rate'].fillna('₹ 0/sq.ft.')\n",
    "\n",
    "# Extracting numeric values and converting to floats\n",
    "Ih_df['Price_Per_SQFT'] = Ih_df['rate'].apply(lambda x: float(x.split()[1].split('/')[0].replace(\",\", \"\")))\n",
    "\n",
    "# Renaming the column\n",
    "Ih_df.drop(columns=['rate'], inplace=True)  # Drop the original 'rate' column"
   ]
  },
  {
   "cell_type": "code",
   "execution_count": 18,
   "id": "5ddf157e-21d5-4804-8bdb-2418f5ed6b6f",
   "metadata": {},
   "outputs": [],
   "source": [
    "# Replacing all 0~Null values with the median value as the feature is skewed\n",
    "Ih_df['Price_Per_SQFT'] = Ih_df['Price_Per_SQFT'].replace(0, Ih_df['Price_Per_SQFT'].median())"
   ]
  },
  {
   "cell_type": "markdown",
   "id": "0092be87-6f42-4c1a-a87b-ff06b9e369a9",
   "metadata": {},
   "source": [
    "### ▶️ Removing tuples where all values in bedroom,bathroom and balcony are missing"
   ]
  },
  {
   "cell_type": "code",
   "execution_count": 21,
   "id": "d58575d8-70fd-4caf-be5b-a9d92cd992ff",
   "metadata": {},
   "outputs": [
    {
     "name": "stdout",
     "output_type": "stream",
     "text": [
      "Indexes will all feature values missing are :  Int64Index([  60,   61,   62,   63,   64,   65,   66,   67,   68,   69,\n",
      "            ...\n",
      "             364,  365,  367,  368,  369,  871, 1068, 1069, 1070, 1071],\n",
      "           dtype='int64', length=108)\n"
     ]
    }
   ],
   "source": [
    "# All the rows where all the 3 feature values are missing\n",
    "Indexes = Ih_df[(Ih_df['bedRoom'].isna()) & (Ih_df['bathroom'].isna()) & (Ih_df['balcony'].isna())].index\n",
    "print(\"Indexes will all feature values missing are : \",Indexes)"
   ]
  },
  {
   "cell_type": "markdown",
   "id": "70121ad2-b371-4acd-a35d-9776435b8fcc",
   "metadata": {},
   "source": [
    "Since for the above rows all other feature values are also missing so the best approach would be to simply ignore all these rows from the dataset."
   ]
  },
  {
   "cell_type": "code",
   "execution_count": 22,
   "id": "dd543e6d-2233-42ae-9515-10601de65c4e",
   "metadata": {},
   "outputs": [],
   "source": [
    "Ih_df.drop(Indexes,inplace=True,axis=0)\n",
    "\n",
    "# Resetting the indexes\n",
    "Ih_df.reset_index(drop=True,inplace=True)"
   ]
  },
  {
   "cell_type": "markdown",
   "id": "1a5c5e02-899c-4cc4-80c7-602ea6c4fe71",
   "metadata": {},
   "source": [
    "### ▶️ Cleaning and processing the balcony,bathroom and bedRoom "
   ]
  },
  {
   "cell_type": "code",
   "execution_count": 17,
   "id": "945694ad-aab3-496a-b5d9-e690f05142f6",
   "metadata": {},
   "outputs": [],
   "source": [
    "for feature in ['bedRoom', 'bathroom', 'balcony']:\n",
    "    \"\"\"\n",
    "    In the balcony feature, we have 'No balcony' and '3+ balcony' values, so we need to consider this feature as categorical rather than numerical.\n",
    "    \"\"\"\n",
    "    if feature == 'balcony':\n",
    "        for i in range(len(Ih_df)):\n",
    "            try:\n",
    "                item = Ih_df[feature].iloc[i]\n",
    "                item = item.split()[0]\n",
    "                if item == 'No':\n",
    "                    Ih_df.loc[i, feature] = 0\n",
    "                else:\n",
    "                    Ih_df.loc[i, feature] = item\n",
    "            except Exception as e:\n",
    "                print(e)\n",
    "                print(\"Index giving error:\", i)\n",
    "    else:\n",
    "        for i in range(len(Ih_df)):\n",
    "            try:\n",
    "                item = Ih_df[feature].iloc[i]\n",
    "                Ih_df.loc[i, feature] = float(item.split()[0])\n",
    "            except Exception as e:\n",
    "                print(e)\n",
    "                print(\"Index giving error:\", i)"
   ]
  },
  {
   "cell_type": "markdown",
   "id": "291182a0-8b55-47f1-a7da-5ea8dffa12de",
   "metadata": {},
   "source": [
    "### ▶️ Standardizing the additionalRoom feature"
   ]
  },
  {
   "cell_type": "code",
   "execution_count": 23,
   "id": "f204290e-3fd9-4636-a20e-b8fe7acb9b51",
   "metadata": {},
   "outputs": [],
   "source": [
    "# Replacing the values and lowercasing values to remove any random dimensionality due to Upper casing and lower casing\n",
    "Ih_df['additionalRoom'].fillna('Not available',inplace=True)\n",
    "Ih_df['additionalRoom'] = Ih_df['additionalRoom'].str.lower()"
   ]
  },
  {
   "cell_type": "code",
   "execution_count": 24,
   "id": "b8c2d4b2-5041-4518-aeab-b6ee0eb09276",
   "metadata": {},
   "outputs": [],
   "source": [
    "Ih_df.rename(columns={'noOfFloor':'floorNum'},inplace=True)\n",
    "\n",
    "# Imputing missing values mode value\n",
    "Ih_df['floorNum'] = Ih_df['floorNum'].fillna(Ih_df['floorNum'].mode()[0])\n",
    "Ih_df['floorNum'] = Ih_df['floorNum'].str.split(' ').str.get(0)"
   ]
  },
  {
   "cell_type": "code",
   "execution_count": 25,
   "id": "24775391-59a8-42f0-9f45-c44240d3244a",
   "metadata": {},
   "outputs": [],
   "source": [
    "# Filling missing values in the face feature with NA\n",
    "Ih_df['facing'].fillna('NA',inplace=True)"
   ]
  },
  {
   "cell_type": "code",
   "execution_count": 27,
   "id": "3164094e-fe7c-4efe-9d08-458c7bbe8b9b",
   "metadata": {},
   "outputs": [],
   "source": [
    "# Renaming feature name\n",
    "Ih_df.rename(columns={'area': 'Area'}, inplace=True)\n",
    "\n",
    "area = []\n",
    "for i in range(len(Ih_df)):\n",
    "    if pd.isna(Ih_df['price'].iloc[i]) or pd.isna(Ih_df['Price_Per_SQFT'].iloc[i]):\n",
    "        area.append(np.nan)\n",
    "    else:\n",
    "        price_value = float(Ih_df['price'].iloc[i]) * 10000000\n",
    "        price_psqft = float(Ih_df['Price_Per_SQFT'].iloc[i])\n",
    "        area.append(price_value / price_psqft)\n",
    "\n",
    "Ih_df['Area'] = area"
   ]
  },
  {
   "cell_type": "code",
   "execution_count": 28,
   "id": "36ef30d2-30d9-4dd7-9b7b-a6f4b1551d52",
   "metadata": {},
   "outputs": [],
   "source": [
    "# Adding new feature for property type\n",
    "Ih_df.insert(loc=1,column='Property_Type',value = 'Independent_house')"
   ]
  },
  {
   "cell_type": "code",
   "execution_count": 32,
   "id": "fc931e64-aa9b-41d4-ae1a-6e6cf9e12924",
   "metadata": {},
   "outputs": [],
   "source": [
    "Ih_df.to_csv('Cleaned_datasets/Cleaned_IH_V1.csv',index=False)"
   ]
  }
 ],
 "metadata": {
  "kernelspec": {
   "display_name": "Python 3 (ipykernel)",
   "language": "python",
   "name": "python3"
  },
  "language_info": {
   "codemirror_mode": {
    "name": "ipython",
    "version": 3
   },
   "file_extension": ".py",
   "mimetype": "text/x-python",
   "name": "python",
   "nbconvert_exporter": "python",
   "pygments_lexer": "ipython3",
   "version": "3.11.4"
  }
 },
 "nbformat": 4,
 "nbformat_minor": 5
}
