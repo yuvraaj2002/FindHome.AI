{
 "cells": [
  {
   "cell_type": "markdown",
   "id": "7a064ad1-923b-4133-ba22-891aaab0d930",
   "metadata": {},
   "source": [
    "# Importing the libraries"
   ]
  },
  {
   "cell_type": "code",
   "execution_count": 2,
   "id": "a8414667-bf3d-43cb-8edd-acf5bc7cf0ac",
   "metadata": {},
   "outputs": [],
   "source": [
    "import pandas as pd\n",
    "import numpy as np\n",
    "import missingno as msno\n",
    "import seaborn as sns\n",
    "import matplotlib.pyplot as plt\n",
    "import plotly.express as px\n",
    "import re\n",
    "\n",
    "# Loading the flats data\n",
    "flats_df = pd.read_csv(\"Raw_data/Flats.csv\")"
   ]
  },
  {
   "cell_type": "markdown",
   "id": "f1c288f1-a3c0-4bc6-8c60-d1f8d56dac77",
   "metadata": {},
   "source": [
    "## Exploratory data analysis and Data Cleaning"
   ]
  },
  {
   "cell_type": "code",
   "execution_count": 3,
   "id": "42f91164-1be9-42f6-9f4b-f71fabf4586b",
   "metadata": {},
   "outputs": [],
   "source": [
    "# This will make sure we are getting full view of targetted rows \n",
    "pd.set_option('display.max_rows', None)\n",
    "pd.set_option('display.max_columns', None)"
   ]
  },
  {
   "cell_type": "code",
   "execution_count": 4,
   "id": "90709ddb-5f96-4d5e-a8f4-7b68cfec8305",
   "metadata": {},
   "outputs": [
    {
     "data": {
      "text/plain": [
       "(3028, 20)"
      ]
     },
     "execution_count": 4,
     "metadata": {},
     "output_type": "execute_result"
    }
   ],
   "source": [
    "# Shape of the dataframe\n",
    "flats_df.shape"
   ]
  },
  {
   "cell_type": "code",
   "execution_count": 5,
   "id": "3ab4156a-7c52-4a4b-8fba-d07ec03c72c2",
   "metadata": {},
   "outputs": [
    {
     "data": {
      "text/html": [
       "<div>\n",
       "<style scoped>\n",
       "    .dataframe tbody tr th:only-of-type {\n",
       "        vertical-align: middle;\n",
       "    }\n",
       "\n",
       "    .dataframe tbody tr th {\n",
       "        vertical-align: top;\n",
       "    }\n",
       "\n",
       "    .dataframe thead th {\n",
       "        text-align: right;\n",
       "    }\n",
       "</style>\n",
       "<table border=\"1\" class=\"dataframe\">\n",
       "  <thead>\n",
       "    <tr style=\"text-align: right;\">\n",
       "      <th></th>\n",
       "      <th>property_name</th>\n",
       "      <th>link</th>\n",
       "      <th>society</th>\n",
       "      <th>price</th>\n",
       "      <th>area</th>\n",
       "      <th>areaWithType</th>\n",
       "      <th>bedRoom</th>\n",
       "      <th>bathroom</th>\n",
       "      <th>balcony</th>\n",
       "      <th>additionalRoom</th>\n",
       "      <th>address</th>\n",
       "      <th>floorNum</th>\n",
       "      <th>facing</th>\n",
       "      <th>agePossession</th>\n",
       "      <th>nearbyLocations</th>\n",
       "      <th>description</th>\n",
       "      <th>furnishDetails</th>\n",
       "      <th>features</th>\n",
       "      <th>rating</th>\n",
       "      <th>property_id</th>\n",
       "    </tr>\n",
       "  </thead>\n",
       "  <tbody>\n",
       "    <tr>\n",
       "      <th>2569</th>\n",
       "      <td>2 BHK Flat in Sector 81 Gurgaon</td>\n",
       "      <td>https://www.99acres.com/2-bhk-bedroom-apartmen...</td>\n",
       "      <td>Signature Global City 81</td>\n",
       "      <td>89 Lac</td>\n",
       "      <td>₹ 8,279/sq.ft.</td>\n",
       "      <td>Carpet area: 1075 (99.87 sq.m.)</td>\n",
       "      <td>2 Bedrooms</td>\n",
       "      <td>2 Bathrooms</td>\n",
       "      <td>2 Balconies</td>\n",
       "      <td>Others</td>\n",
       "      <td>Sector 81 Gurgaon, Gurgaon, Haryana</td>\n",
       "      <td>3rd   of 4 Floors</td>\n",
       "      <td>North</td>\n",
       "      <td>Oct 2024</td>\n",
       "      <td>['Ambience Mall New', 'Dwarka Expressway', 'NH...</td>\n",
       "      <td>Payment in quaterly installments , to pays app...</td>\n",
       "      <td>['2 Wardrobe', '4 Fan', '2 Geyser', '4 Light',...</td>\n",
       "      <td>['Feng Shui / Vaastu Compliant', 'Intercom Fac...</td>\n",
       "      <td>['Environment4.5 out of 5', 'Lifestyle4 out of...</td>\n",
       "      <td>M68963232</td>\n",
       "    </tr>\n",
       "    <tr>\n",
       "      <th>1187</th>\n",
       "      <td>3 BHK Flat in Sector 77 Gurgaon</td>\n",
       "      <td>https://www.99acres.com/3-bhk-bedroom-apartmen...</td>\n",
       "      <td>Umang Winter Hills3.9 ★</td>\n",
       "      <td>92 Lac</td>\n",
       "      <td>₹ 5,049/sq.ft.</td>\n",
       "      <td>Super Built up area 1822(169.27 sq.m.)Carpet a...</td>\n",
       "      <td>3 Bedrooms</td>\n",
       "      <td>3 Bathrooms</td>\n",
       "      <td>3 Balconies</td>\n",
       "      <td>Others</td>\n",
       "      <td>Sector 77 Gurgaon, Gurgaon, Haryana</td>\n",
       "      <td>17th   of 18 Floors</td>\n",
       "      <td>North-East</td>\n",
       "      <td>1 to 5 Year Old</td>\n",
       "      <td>['Entertainland Mall', 'Delhi Jaipur Expresswa...</td>\n",
       "      <td>Located in the popular residential address of ...</td>\n",
       "      <td>['3 Wardrobe', '5 Fan', '1 Exhaust Fan', '3 Ge...</td>\n",
       "      <td>['Feng Shui / Vaastu Compliant', 'Security / F...</td>\n",
       "      <td>['Green Area5 out of 5', 'Construction5 out of...</td>\n",
       "      <td>G68287864</td>\n",
       "    </tr>\n",
       "    <tr>\n",
       "      <th>953</th>\n",
       "      <td>3 BHK Flat in DLF Phase 5</td>\n",
       "      <td>https://www.99acres.com/3-bhk-bedroom-apartmen...</td>\n",
       "      <td>DLF Trinity Towers3.7 ★</td>\n",
       "      <td>3.8 Crore</td>\n",
       "      <td>₹ 15,510/sq.ft.</td>\n",
       "      <td>Built Up area: 2450 (227.61 sq.m.)</td>\n",
       "      <td>3 Bedrooms</td>\n",
       "      <td>3 Bathrooms</td>\n",
       "      <td>3+ Balconies</td>\n",
       "      <td>Pooja Room,Servant Room</td>\n",
       "      <td>DLF Phase 5, Gurgaon, Haryana</td>\n",
       "      <td>1st   of 19 Floors</td>\n",
       "      <td>South-East</td>\n",
       "      <td>5 to 10 Year Old</td>\n",
       "      <td>['Sector 53-54', 'Sahara Mall', 'Golf Course R...</td>\n",
       "      <td>Dlf trinity towers is one of gurgaon's most so...</td>\n",
       "      <td>['4 Wardrobe', '1 Water Purifier', '6 Fan', '1...</td>\n",
       "      <td>['Power Back-up', 'Lift(s)', 'Maintenance Staf...</td>\n",
       "      <td>['Green Area4 out of 5', 'Construction4 out of...</td>\n",
       "      <td>T69408490</td>\n",
       "    </tr>\n",
       "  </tbody>\n",
       "</table>\n",
       "</div>"
      ],
      "text/plain": [
       "                        property_name  \\\n",
       "2569  2 BHK Flat in Sector 81 Gurgaon   \n",
       "1187  3 BHK Flat in Sector 77 Gurgaon   \n",
       "953         3 BHK Flat in DLF Phase 5   \n",
       "\n",
       "                                                   link  \\\n",
       "2569  https://www.99acres.com/2-bhk-bedroom-apartmen...   \n",
       "1187  https://www.99acres.com/3-bhk-bedroom-apartmen...   \n",
       "953   https://www.99acres.com/3-bhk-bedroom-apartmen...   \n",
       "\n",
       "                       society      price             area  \\\n",
       "2569  Signature Global City 81     89 Lac   ₹ 8,279/sq.ft.   \n",
       "1187   Umang Winter Hills3.9 ★     92 Lac   ₹ 5,049/sq.ft.   \n",
       "953    DLF Trinity Towers3.7 ★  3.8 Crore  ₹ 15,510/sq.ft.   \n",
       "\n",
       "                                           areaWithType     bedRoom  \\\n",
       "2569                    Carpet area: 1075 (99.87 sq.m.)  2 Bedrooms   \n",
       "1187  Super Built up area 1822(169.27 sq.m.)Carpet a...  3 Bedrooms   \n",
       "953                  Built Up area: 2450 (227.61 sq.m.)  3 Bedrooms   \n",
       "\n",
       "         bathroom       balcony           additionalRoom  \\\n",
       "2569  2 Bathrooms   2 Balconies                   Others   \n",
       "1187  3 Bathrooms   3 Balconies                   Others   \n",
       "953   3 Bathrooms  3+ Balconies  Pooja Room,Servant Room   \n",
       "\n",
       "                                  address             floorNum      facing  \\\n",
       "2569  Sector 81 Gurgaon, Gurgaon, Haryana    3rd   of 4 Floors       North   \n",
       "1187  Sector 77 Gurgaon, Gurgaon, Haryana  17th   of 18 Floors  North-East   \n",
       "953         DLF Phase 5, Gurgaon, Haryana   1st   of 19 Floors  South-East   \n",
       "\n",
       "         agePossession                                    nearbyLocations  \\\n",
       "2569          Oct 2024  ['Ambience Mall New', 'Dwarka Expressway', 'NH...   \n",
       "1187   1 to 5 Year Old  ['Entertainland Mall', 'Delhi Jaipur Expresswa...   \n",
       "953   5 to 10 Year Old  ['Sector 53-54', 'Sahara Mall', 'Golf Course R...   \n",
       "\n",
       "                                            description  \\\n",
       "2569  Payment in quaterly installments , to pays app...   \n",
       "1187  Located in the popular residential address of ...   \n",
       "953   Dlf trinity towers is one of gurgaon's most so...   \n",
       "\n",
       "                                         furnishDetails  \\\n",
       "2569  ['2 Wardrobe', '4 Fan', '2 Geyser', '4 Light',...   \n",
       "1187  ['3 Wardrobe', '5 Fan', '1 Exhaust Fan', '3 Ge...   \n",
       "953   ['4 Wardrobe', '1 Water Purifier', '6 Fan', '1...   \n",
       "\n",
       "                                               features  \\\n",
       "2569  ['Feng Shui / Vaastu Compliant', 'Intercom Fac...   \n",
       "1187  ['Feng Shui / Vaastu Compliant', 'Security / F...   \n",
       "953   ['Power Back-up', 'Lift(s)', 'Maintenance Staf...   \n",
       "\n",
       "                                                 rating property_id  \n",
       "2569  ['Environment4.5 out of 5', 'Lifestyle4 out of...   M68963232  \n",
       "1187  ['Green Area5 out of 5', 'Construction5 out of...   G68287864  \n",
       "953   ['Green Area4 out of 5', 'Construction4 out of...   T69408490  "
      ]
     },
     "execution_count": 5,
     "metadata": {},
     "output_type": "execute_result"
    }
   ],
   "source": [
    "# 3 Random rows from dataframe\n",
    "flats_df.sample(3)"
   ]
  },
  {
   "cell_type": "code",
   "execution_count": 6,
   "id": "fad94256-be35-4ae2-99dc-ff496a2bc3e2",
   "metadata": {},
   "outputs": [
    {
     "data": {
      "image/png": "[encoded data removed]",
      "text/plain": [
       "<Figure size 1500x300 with 3 Axes>"
      ]
     },
     "metadata": {},
     "output_type": "display_data"
    }
   ],
   "source": [
    "# Visualize missing values using a bar chart\n",
    "msno.bar(flats_df, figsize=(15, 3), color=\"dodgerblue\", sort=\"ascending\", fontsize=12)\n",
    "plt.show()"
   ]
  },
  {
   "cell_type": "code",
   "execution_count": 7,
   "id": "f7e7ae2c-c7bd-49d6-a79c-ae12476b0f23",
   "metadata": {},
   "outputs": [
    {
     "name": "stdout",
     "output_type": "stream",
     "text": [
      "No Duplicate values\n"
     ]
    }
   ],
   "source": [
    "# Checking any duplicate values\n",
    "if flats_df.duplicated().sum() == 0:\n",
    "    print(\"No Duplicate values\")\n",
    "else:\n",
    "    print(\"Removed duplicates\")\n",
    "    flats_df.drop_duplicates(inplace=True)"
   ]
  },
  {
   "cell_type": "code",
   "execution_count": 8,
   "id": "2ce74649-40fc-4b39-8a5a-efda7c3dd2d3",
   "metadata": {},
   "outputs": [],
   "source": [
    "# Dropping unnecessary columns from dataframe\n",
    "flats_df.drop(['property_id','link'],axis=1,inplace=True)"
   ]
  },
  {
   "cell_type": "code",
   "execution_count": 9,
   "id": "e0aec2f8-2459-48fd-be31-1192756af44d",
   "metadata": {},
   "outputs": [
    {
     "name": "stdout",
     "output_type": "stream",
     "text": [
      "<class 'pandas.core.frame.DataFrame'>\n",
      "RangeIndex: 3028 entries, 0 to 3027\n",
      "Data columns (total 18 columns):\n",
      " #   Column           Non-Null Count  Dtype \n",
      "---  ------           --------------  ----- \n",
      " 0   property_name    3028 non-null   object\n",
      " 1   society          3027 non-null   object\n",
      " 2   price            3008 non-null   object\n",
      " 3   area             3015 non-null   object\n",
      " 4   areaWithType     3009 non-null   object\n",
      " 5   bedRoom          3009 non-null   object\n",
      " 6   bathroom         3009 non-null   object\n",
      " 7   balcony          3009 non-null   object\n",
      " 8   additionalRoom   1695 non-null   object\n",
      " 9   address          3003 non-null   object\n",
      " 10  floorNum         3007 non-null   object\n",
      " 11  facing           2128 non-null   object\n",
      " 12  agePossession    3008 non-null   object\n",
      " 13  nearbyLocations  2914 non-null   object\n",
      " 14  description      3009 non-null   object\n",
      " 15  furnishDetails   2204 non-null   object\n",
      " 16  features         2595 non-null   object\n",
      " 17  rating           2677 non-null   object\n",
      "dtypes: object(18)\n",
      "memory usage: 425.9+ KB\n"
     ]
    }
   ],
   "source": [
    "flats_df.info()"
   ]
  },
  {
   "cell_type": "code",
   "execution_count": 10,
   "id": "3e2e7a86-90b8-4471-b993-b47656c8db5f",
   "metadata": {},
   "outputs": [],
   "source": [
    "# Removing any rating and lowercasing the society names to reduce the dimensionality \n",
    "flats_df['society'] = flats_df['society'].apply(lambda name: re.sub(r'\\d+(\\.\\d+)?\\s?★', '', str(name)).strip()).str.lower()"
   ]
  },
  {
   "cell_type": "markdown",
   "id": "6831bb58-7ab8-41ad-a17b-492f2c029877",
   "metadata": {},
   "source": [
    "- In the price column the units of values are Lac and Crore respectively so first we will make `same units`\n",
    "- There are few rows having `price='Price on Request'` so we will removing such rows from the dataframe as we only want the rows having some price values.\n",
    "- Ohter than this in the price features there are few floating point values such as `0.011000000000000001`. So we will remove them as they don't have any unit.\n",
    "- There is a particular record having value price = `price`"
   ]
  },
  {
   "cell_type": "code",
   "execution_count": 11,
   "id": "5324cc88-e24d-4b50-94ca-504d0fefc606",
   "metadata": {},
   "outputs": [
    {
     "data": {
      "text/html": [
       "<div>\n",
       "<style scoped>\n",
       "    .dataframe tbody tr th:only-of-type {\n",
       "        vertical-align: middle;\n",
       "    }\n",
       "\n",
       "    .dataframe tbody tr th {\n",
       "        vertical-align: top;\n",
       "    }\n",
       "\n",
       "    .dataframe thead th {\n",
       "        text-align: right;\n",
       "    }\n",
       "</style>\n",
       "<table border=\"1\" class=\"dataframe\">\n",
       "  <thead>\n",
       "    <tr style=\"text-align: right;\">\n",
       "      <th></th>\n",
       "      <th>property_name</th>\n",
       "      <th>society</th>\n",
       "      <th>price</th>\n",
       "      <th>area</th>\n",
       "      <th>areaWithType</th>\n",
       "      <th>bedRoom</th>\n",
       "      <th>bathroom</th>\n",
       "      <th>balcony</th>\n",
       "      <th>additionalRoom</th>\n",
       "      <th>address</th>\n",
       "      <th>floorNum</th>\n",
       "      <th>facing</th>\n",
       "      <th>agePossession</th>\n",
       "      <th>nearbyLocations</th>\n",
       "      <th>description</th>\n",
       "      <th>furnishDetails</th>\n",
       "      <th>features</th>\n",
       "      <th>rating</th>\n",
       "    </tr>\n",
       "  </thead>\n",
       "  <tbody>\n",
       "    <tr>\n",
       "      <th>286</th>\n",
       "      <td>property_name</td>\n",
       "      <td>society</td>\n",
       "      <td>price</td>\n",
       "      <td>area</td>\n",
       "      <td>areaWithType</td>\n",
       "      <td>bedRoom</td>\n",
       "      <td>bathroom</td>\n",
       "      <td>balcony</td>\n",
       "      <td>additionalRoom</td>\n",
       "      <td>address</td>\n",
       "      <td>floorNum</td>\n",
       "      <td>facing</td>\n",
       "      <td>agePossession</td>\n",
       "      <td>nearbyLocations</td>\n",
       "      <td>description</td>\n",
       "      <td>furnishDetails</td>\n",
       "      <td>features</td>\n",
       "      <td>rating</td>\n",
       "    </tr>\n",
       "  </tbody>\n",
       "</table>\n",
       "</div>"
      ],
      "text/plain": [
       "     property_name  society  price  area  areaWithType  bedRoom  bathroom  \\\n",
       "286  property_name  society  price  area  areaWithType  bedRoom  bathroom   \n",
       "\n",
       "     balcony  additionalRoom  address  floorNum  facing  agePossession  \\\n",
       "286  balcony  additionalRoom  address  floorNum  facing  agePossession   \n",
       "\n",
       "     nearbyLocations  description  furnishDetails  features  rating  \n",
       "286  nearbyLocations  description  furnishDetails  features  rating  "
      ]
     },
     "execution_count": 11,
     "metadata": {},
     "output_type": "execute_result"
    }
   ],
   "source": [
    "flats_df[flats_df['price'] == 'price']"
   ]
  },
  {
   "cell_type": "code",
   "execution_count": 12,
   "id": "7195c467-ded9-4d09-9e98-5c17fdad04fd",
   "metadata": {},
   "outputs": [
    {
     "name": "stdout",
     "output_type": "stream",
     "text": [
      "Indexes having Price on Request values: Int64Index([25, 1645, 1973, 2055, 2358, 2523, 2550, 2641, 2960, 2973, 2974], dtype='int64')\n"
     ]
    }
   ],
   "source": [
    "print(\"Indexes having Price on Request values:\",flats_df[flats_df['price'] == 'Price on Request'].index)\n",
    "flats_df.drop([25, 1645, 1973, 2055, 2358, 2523, 2550, 2641, 2960, 2973, 2974, 286],axis=0,inplace=True)\n",
    "\n",
    "# Resetting the indexes\n",
    "flats_df.reset_index(drop=True,inplace=True)\n",
    "\n",
    "# Imputing missing values with mode value\n",
    "flats_df['price'] = flats_df['price'].fillna(flats_df['price'].mode()[0])"
   ]
  },
  {
   "cell_type": "code",
   "execution_count": 13,
   "id": "55593d8e-dbd8-415f-9fe7-a7868bf33014",
   "metadata": {},
   "outputs": [],
   "source": [
    "# Converting Lac to Crore\n",
    "for i in range(len(flats_df)):\n",
    "    try:\n",
    "        item = flats_df['price'].iloc[i]\n",
    "        if type(item) == float:\n",
    "            flats_df['price'].iloc[i] = np.nan\n",
    "        else:\n",
    "            if item.split()[1] == 'Lac':\n",
    "                flats_df['price'].iloc[i] = round(float(item.split()[0])/100,2)\n",
    "            else:\n",
    "                flats_df['price'].iloc[i] = round(float(item.split()[0]),2)\n",
    "    except Exception as e:\n",
    "        print(e)\n",
    "        print(\"Index : \",i)\n",
    "\n",
    "flats_df['price'] = flats_df['price'].astype(np.float64)"
   ]
  },
  {
   "cell_type": "markdown",
   "id": "8f598d11-e3a8-4684-82ef-03d4c621e04d",
   "metadata": {},
   "source": [
    "In the `area` feature we can see that other than the value itself there are few units used, but since these units will not be useful so we will simply extract the actual value of price per square feet and remove all other symbols."
   ]
  },
  {
   "cell_type": "code",
   "execution_count": 14,
   "id": "9637dac5-302f-402c-9e6b-5e22b14fe823",
   "metadata": {},
   "outputs": [
    {
     "data": {
      "text/plain": [
       "5000.0"
      ]
     },
     "execution_count": 14,
     "metadata": {},
     "output_type": "execute_result"
    }
   ],
   "source": [
    "# Just for refence and understanding\n",
    "str = '₹ 5,000/sq.ft.'\n",
    "float(str.split()[1].split('/')[0].replace(\",\",\"\"))"
   ]
  },
  {
   "cell_type": "code",
   "execution_count": 15,
   "id": "50d2c44b-d32b-478a-adf5-6822407ce49e",
   "metadata": {},
   "outputs": [],
   "source": [
    "# Imputing the missing values with mode value\n",
    "flats_df['area'] = flats_df['area'].fillna(flats_df['area'].mode()[0])\n",
    "\n",
    "for i in range(len(flats_df)):\n",
    "    try:\n",
    "        item = flats_df.loc[i, 'area']\n",
    "        flats_df.loc[i, 'area'] = float(item.split()[1].split('/')[0].replace(\",\",\"\"))\n",
    "    except Exception as e:\n",
    "        print(e)\n",
    "        print(\"Index giving error : \",i)\n",
    "\n",
    "flats_df.rename(columns={'area': 'Price_Per_SQFT'},inplace=True)\n",
    "flats_df['Price_Per_SQFT'] = flats_df['Price_Per_SQFT'].astype(np.float64)"
   ]
  },
  {
   "cell_type": "markdown",
   "id": "406bc46e-fa98-4a34-9826-68cd761ed833",
   "metadata": {},
   "source": [
    "In the `areaWithType` feature we are given a lot of different area type information collectively, for example in some rows we will see that `Carpet area` and `Super Built up area` are given in the same row."
   ]
  },
  {
   "cell_type": "code",
   "execution_count": 16,
   "id": "848aff52-1285-4d5d-9651-ed763815e937",
   "metadata": {},
   "outputs": [
    {
     "name": "stdout",
     "output_type": "stream",
     "text": [
      "Indexes will all feature values missing are :  Int64Index([2841, 2842, 2843, 2844, 2914, 2915, 2916, 2918, 2919, 2982, 2983,\n",
      "            2984, 2985, 2986, 2987, 2988, 2989, 2990, 2991],\n",
      "           dtype='int64')\n"
     ]
    }
   ],
   "source": [
    "# All the rows where all the 3 feature values are missing\n",
    "Indexes = flats_df[(flats_df['bedRoom'].isna()) & (flats_df['bathroom'].isna()) & (flats_df['balcony'].isna())].index\n",
    "print(\"Indexes will all feature values missing are : \",Indexes)"
   ]
  },
  {
   "cell_type": "markdown",
   "id": "d7436f09-a82a-4ccf-8f94-25b1169850d3",
   "metadata": {},
   "source": [
    "Since for the above rows all other feature values are also missing so the best approach would be to simply ignore all these rows from the dataset."
   ]
  },
  {
   "cell_type": "code",
   "execution_count": 17,
   "id": "218705c3-5145-4a63-b588-e3132e6c5f17",
   "metadata": {},
   "outputs": [],
   "source": [
    "flats_df.drop([2841, 2842, 2843, 2844, 2914, 2915, 2916, 2918, 2919, 2982, 2983,\n",
    "            2984, 2985, 2986, 2987, 2988, 2989, 2990, 2991],inplace=True,axis=0)\n",
    "\n",
    "# Resetting the indexes\n",
    "flats_df.reset_index(drop=True,inplace=True)"
   ]
  },
  {
   "cell_type": "code",
   "execution_count": 18,
   "id": "17408234-b088-46d9-a6ee-1a7f3197124f",
   "metadata": {},
   "outputs": [
    {
     "data": {
      "text/plain": [
       "'3'"
      ]
     },
     "execution_count": 18,
     "metadata": {},
     "output_type": "execute_result"
    }
   ],
   "source": [
    "# Just for referenec and better understanding\n",
    "str = '3 Bedrooms'\n",
    "str.split()[0]"
   ]
  },
  {
   "cell_type": "code",
   "execution_count": 19,
   "id": "c5af4dae-42ef-4ac3-8c0f-f55708623876",
   "metadata": {},
   "outputs": [],
   "source": [
    "for feature in ['bedRoom','bathroom','balcony']:\n",
    "    \"\"\"\n",
    "    In the balcony feature we have No balcony and 3+ balcony values so we need to make sure that\n",
    "    we are considering this feature as a categorical rather than numerical.\n",
    "    \"\"\"\n",
    "    if feature == 'balcony':\n",
    "        for i in range(len(flats_df)):\n",
    "            try:\n",
    "                item = flats_df.loc[i,feature]\n",
    "                item = item.split()[0]\n",
    "                if item == 'No':\n",
    "                    flats_df.loc[i,feature] = 0\n",
    "                else:\n",
    "                    flats_df.loc[i,feature] = item\n",
    "            except Exception as e:\n",
    "                print(e)\n",
    "                print(\"Index giving error : \",i)\n",
    "    else:\n",
    "        for i in range(len(flats_df)):\n",
    "            try:\n",
    "                item = flats_df.loc[i,feature]\n",
    "                flats_df.loc[i,feature] = float(item.split()[0])\n",
    "            except Exception as e:\n",
    "                print(e)\n",
    "                print(\"Index giving error : \",i)"
   ]
  },
  {
   "cell_type": "markdown",
   "id": "b8fbc66c-39d1-4440-baed-ba7c24c07d16",
   "metadata": {},
   "source": [
    "In the `additionalRoom` feature there are few flats which have NaN values so to make the things more understandable we will replace NaN with Not available."
   ]
  },
  {
   "cell_type": "code",
   "execution_count": 20,
   "id": "e3abc92f-e777-47db-b272-988baaeae831",
   "metadata": {},
   "outputs": [],
   "source": [
    "# Replacing the values and lowercasing values to remove any random dimensionality due to Upper casing and lower casing\n",
    "flats_df['additionalRoom'].fillna('Not available',inplace=True)\n",
    "flats_df['additionalRoom'] = flats_df['additionalRoom'].str.lower()"
   ]
  },
  {
   "cell_type": "markdown",
   "id": "47176f59-0e70-440a-b9dd-441082e5d011",
   "metadata": {},
   "source": [
    "Cleaning the floorNum values"
   ]
  },
  {
   "cell_type": "code",
   "execution_count": 21,
   "id": "a05fc5be-835a-4ded-bafc-ee0c0a96c433",
   "metadata": {},
   "outputs": [
    {
     "data": {
      "text/plain": [
       "'14'"
      ]
     },
     "execution_count": 21,
     "metadata": {},
     "output_type": "execute_result"
    }
   ],
   "source": [
    "str = '14th   of 14 Floors'\n",
    "str = str.split()[0]\n",
    "str[:-2]"
   ]
  },
  {
   "cell_type": "code",
   "execution_count": 22,
   "id": "42d23999-8b1c-4c51-91fd-751f267a558d",
   "metadata": {},
   "outputs": [],
   "source": [
    "# Imputing the missing values with mode value\n",
    "flats_df['floorNum'] = flats_df['floorNum'].fillna(flats_df['floorNum'].mode()[0])\n",
    "\n",
    "for i in range(len(flats_df)):\n",
    "    try:\n",
    "        item = flats_df.loc[i,'floorNum']\n",
    "        item = item.split()[0]\n",
    "        if item == 'Basement':\n",
    "            flats_df.loc[i,'floorNum'] = -1\n",
    "        elif (item == 'Ground') or (item == 'Lower'):\n",
    "            flats_df.loc[i,'floorNum'] = 0\n",
    "        else:  \n",
    "            if len(item) == 2:\n",
    "                flats_df.loc[i,'floorNum'] = int(item)\n",
    "            else:\n",
    "                flats_df.loc[i,'floorNum'] = int(item[:-2])\n",
    "    except Exception as e:\n",
    "        print(e)\n",
    "        print(\"Index giving error : \",i)"
   ]
  },
  {
   "cell_type": "markdown",
   "id": "81589acc-f449-475b-a8cd-62afadf37a36",
   "metadata": {},
   "source": [
    "By utilizing the features `price` and `Price_Per_SQFT` let's create a new feature called `area`"
   ]
  },
  {
   "cell_type": "code",
   "execution_count": 23,
   "id": "9fcba64c-39d9-4a3f-8fb9-3d9eb705a353",
   "metadata": {},
   "outputs": [],
   "source": [
    "area = []\n",
    "for i in range(len(flats_df)):\n",
    "    price_value = int(flats_df['price'].iloc[i] *10000000)\n",
    "    price_psqft = int(flats_df['Price_Per_SQFT'].iloc[i])\n",
    "    area.append(int(price_value/price_psqft))\n",
    "\n",
    "# Inserting new feature called area \n",
    "flats_df.insert(loc=4,column='Area',value = area)\n",
    "\n",
    "# Adding new feature for property type\n",
    "flats_df.insert(loc=1,column='Property_Type',value = 'flat')"
   ]
  },
  {
   "cell_type": "code",
   "execution_count": 24,
   "id": "38010ce8-f53a-428b-beb0-767b76067bf4",
   "metadata": {},
   "outputs": [],
   "source": [
    "flats_df.to_csv('Cleaned_datasets/Clean_Flats_V1.csv',index=False)"
   ]
  }
 ],
 "metadata": {
  "kernelspec": {
   "display_name": "Python 3 (ipykernel)",
   "language": "python",
   "name": "python3"
  },
  "language_info": {
   "codemirror_mode": {
    "name": "ipython",
    "version": 3
   },
   "file_extension": ".py",
   "mimetype": "text/x-python",
   "name": "python",
   "nbconvert_exporter": "python",
   "pygments_lexer": "ipython3",
   "version": "3.11.4"
  }
 },
 "nbformat": 4,
 "nbformat_minor": 5
}
